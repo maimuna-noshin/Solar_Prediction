{
  "nbformat": 4,
  "nbformat_minor": 0,
  "metadata": {
    "colab": {
      "provenance": [],
      "include_colab_link": true
    },
    "kernelspec": {
      "name": "python3",
      "display_name": "Python 3"
    },
    "language_info": {
      "name": "python"
    }
  },
  "cells": [
    {
      "cell_type": "markdown",
      "metadata": {
        "id": "view-in-github",
        "colab_type": "text"
      },
      "source": [
        "<a href=\"https://colab.research.google.com/github/maimuna-noshin/Solar_Prediction/blob/main/solarprediction.ipynb\" target=\"_parent\"><img src=\"https://colab.research.google.com/assets/colab-badge.svg\" alt=\"Open In Colab\"/></a>"
      ]
    },
    {
      "cell_type": "markdown",
      "source": [
        "# Solar Prediction"
      ],
      "metadata": {
        "id": "hcyl-vUNHj_h"
      }
    },
    {
      "cell_type": "code",
      "execution_count": null,
      "metadata": {
        "id": "vQ2XqW7kluLE"
      },
      "outputs": [],
      "source": [
        "import pandas as pd\n",
        "import numpy as np\n",
        "import tensorflow as tf\n",
        "from tensorflow import keras\n",
        "from sklearn.model_selection import train_test_split\n",
        "from sklearn.preprocessing import MinMaxScaler\n",
        "import pickle\n",
        "from sklearn.model_selection import RandomizedSearchCV\n",
        "from scipy.stats import randint as sp_randint\n",
        "from sklearn.model_selection import RandomizedSearchCV\n",
        "from scipy.stats import randint as sp_randint\n",
        "from tensorflow.keras.layers import Dense, Dropout, LSTM, Conv1D, BatchNormalization, Flatten\n",
        "from sklearn.preprocessing import StandardScaler\n",
        "from scipy.fftpack import fft\n",
        "from sklearn.model_selection import train_test_split\n",
        "from tensorflow.keras.callbacks import ReduceLROnPlateau, EarlyStopping"
      ]
    },
    {
      "cell_type": "code",
      "source": [
        "df=pd.read_csv(\"/content/updated_dataset.csv\")"
      ],
      "metadata": {
        "id": "b2EaJDk9l9JD"
      },
      "execution_count": null,
      "outputs": []
    },
    {
      "cell_type": "code",
      "source": [
        "# Convert to datetime\n",
        "df['date'] = pd.to_datetime(df[['Year', 'Month', 'Day', 'Hour']])\n",
        "\n",
        "\n",
        "# Extract hour and apply time-based encoding\n",
        "df['hour_sin'] = np.sin(2 * np.pi * df['Hour'] / 24)\n",
        "df['hour_cos'] = np.cos(2 * np.pi * df['Hour'] / 24)\n",
        "\n",
        "# Define nighttime hours (6 PM - 6 AM) and set irradiance to zero\n",
        "df['nighttime'] = df['Hour'].isin(list(range(0, 7)) + list(range(18, 24)))\n",
        "df.loc[df['nighttime'], ['DNI_A', 'DNI_D', 'DNI_M']] = 0"
      ],
      "metadata": {
        "id": "8eWPZASsl9Mm"
      },
      "execution_count": null,
      "outputs": []
    },
    {
      "cell_type": "code",
      "source": [
        "# Selecting features (X) and target variables (Y)\n",
        "features = ['hour_sin', 'hour_cos', 'Temperature_A','Pressure_A', 'Day','Month', 'Surface Albedo_A', 'Cloud Type_A']\n",
        "targets = ['DNI_A']  # Target variables for all three locations"
      ],
      "metadata": {
        "id": "jrLXHLggl9TK"
      },
      "execution_count": null,
      "outputs": []
    },
    {
      "cell_type": "code",
      "source": [
        "\n",
        "X = df[features].values\n",
        "y = df[targets].values"
      ],
      "metadata": {
        "id": "qSIvZNBO2RrP"
      },
      "execution_count": null,
      "outputs": []
    },
    {
      "cell_type": "code",
      "source": [
        "# Keep timestamps before scaling\n",
        "timestamps = df[['Month', 'Day', 'Hour']]"
      ],
      "metadata": {
        "id": "QK_c9pUC2R1G"
      },
      "execution_count": null,
      "outputs": []
    },
    {
      "cell_type": "code",
      "source": [
        "scaler_X = MinMaxScaler()\n",
        "scaler_y = MinMaxScaler(feature_range=(0, 1000))\n",
        "X_scaled = scaler_X.fit_transform(X)\n",
        "y_scaled = scaler_y.fit_transform(y)\n",
        "# Save the feature scaler\n",
        "with open(\"scaler_X.pkl\", \"wb\") as f:\n",
        "    pickle.dump(scaler_X, f)\n",
        "\n",
        "# Save the target scaler\n",
        "with open(\"scaler_y.pkl\", \"wb\") as f:\n",
        "    pickle.dump(scaler_y, f)"
      ],
      "metadata": {
        "id": "hQ2Kq3h82R42"
      },
      "execution_count": null,
      "outputs": []
    },
    {
      "cell_type": "code",
      "source": [
        "# Split data into training and testing sets\n",
        "X_train, X_test, y_train, y_test, timestamps_train, timestamps_test = train_test_split(X_scaled, y_scaled,timestamps, test_size=0.2, random_state=42)\n",
        "print(X_train.max())"
      ],
      "metadata": {
        "id": "EZ3DTavB2R8l",
        "colab": {
          "base_uri": "https://localhost:8080/"
        },
        "outputId": "cc068055-7076-4cfd-bf50-4201a078bd55"
      },
      "execution_count": null,
      "outputs": [
        {
          "output_type": "stream",
          "name": "stdout",
          "text": [
            "1.0\n"
          ]
        }
      ]
    },
    {
      "cell_type": "code",
      "source": [
        "model = keras.Sequential([\n",
        "    keras.layers.Dense(128, activation='relu', input_shape=(X_train.shape[1],)),\n",
        "    keras.layers.Dropout(0.2),\n",
        "    keras.layers.Dense(256, activation='relu'),\n",
        "    keras.layers.Dropout(0.2),\n",
        "    keras.layers.Dense(128, activation='relu'),\n",
        "    keras.layers.Dense(len(targets), activation='linear')\n",
        "])"
      ],
      "metadata": {
        "colab": {
          "base_uri": "https://localhost:8080/"
        },
        "id": "ztt3RdnS2g_8",
        "outputId": "58c21987-8bfe-4c17-ba90-40a2f253e627"
      },
      "execution_count": null,
      "outputs": [
        {
          "output_type": "stream",
          "name": "stderr",
          "text": [
            "/usr/local/lib/python3.11/dist-packages/keras/src/layers/core/dense.py:87: UserWarning: Do not pass an `input_shape`/`input_dim` argument to a layer. When using Sequential models, prefer using an `Input(shape)` object as the first layer in the model instead.\n",
            "  super().__init__(activity_regularizer=activity_regularizer, **kwargs)\n"
          ]
        }
      ]
    },
    {
      "cell_type": "code",
      "source": [
        "# Compile the model\n",
        "optimizer = keras.optimizers.Adam(learning_rate=0.001)\n",
        "model.compile(optimizer=optimizer, loss='mse', metrics=['mae'])\n",
        "early_stopping = keras.callbacks.EarlyStopping(monitor='val_loss', patience=10, restore_best_weights=True)"
      ],
      "metadata": {
        "id": "SmmxLfre2R_7"
      },
      "execution_count": null,
      "outputs": []
    },
    {
      "cell_type": "code",
      "source": [
        "# Train the model\n",
        "history = model.fit(X_train, y_train, epochs=10, batch_size=8, validation_data=(X_test, y_test))"
      ],
      "metadata": {
        "colab": {
          "base_uri": "https://localhost:8080/"
        },
        "id": "XbCo6VxP2orT",
        "outputId": "4f071f2c-1e82-4867-a686-2b8cdb88075d"
      },
      "execution_count": null,
      "outputs": [
        {
          "output_type": "stream",
          "name": "stdout",
          "text": [
            "Epoch 1/10\n",
            "\u001b[1m876/876\u001b[0m \u001b[32m━━━━━━━━━━━━━━━━━━━━\u001b[0m\u001b[37m\u001b[0m \u001b[1m5s\u001b[0m 3ms/step - loss: 59899.9531 - mae: 160.6332 - val_loss: 28426.1445 - val_mae: 93.6095\n",
            "Epoch 2/10\n",
            "\u001b[1m876/876\u001b[0m \u001b[32m━━━━━━━━━━━━━━━━━━━━\u001b[0m\u001b[37m\u001b[0m \u001b[1m4s\u001b[0m 4ms/step - loss: 27951.7930 - mae: 96.6261 - val_loss: 27334.7148 - val_mae: 94.5557\n",
            "Epoch 3/10\n",
            "\u001b[1m876/876\u001b[0m \u001b[32m━━━━━━━━━━━━━━━━━━━━\u001b[0m\u001b[37m\u001b[0m \u001b[1m4s\u001b[0m 3ms/step - loss: 29735.0352 - mae: 99.9822 - val_loss: 25960.7578 - val_mae: 90.7239\n",
            "Epoch 4/10\n",
            "\u001b[1m876/876\u001b[0m \u001b[32m━━━━━━━━━━━━━━━━━━━━\u001b[0m\u001b[37m\u001b[0m \u001b[1m3s\u001b[0m 3ms/step - loss: 27599.1309 - mae: 93.7181 - val_loss: 25556.1914 - val_mae: 87.9891\n",
            "Epoch 5/10\n",
            "\u001b[1m876/876\u001b[0m \u001b[32m━━━━━━━━━━━━━━━━━━━━\u001b[0m\u001b[37m\u001b[0m \u001b[1m3s\u001b[0m 3ms/step - loss: 28166.7070 - mae: 93.0996 - val_loss: 25520.3262 - val_mae: 87.7081\n",
            "Epoch 6/10\n",
            "\u001b[1m876/876\u001b[0m \u001b[32m━━━━━━━━━━━━━━━━━━━━\u001b[0m\u001b[37m\u001b[0m \u001b[1m5s\u001b[0m 3ms/step - loss: 28003.6348 - mae: 93.4523 - val_loss: 25485.0488 - val_mae: 87.0272\n",
            "Epoch 7/10\n",
            "\u001b[1m876/876\u001b[0m \u001b[32m━━━━━━━━━━━━━━━━━━━━\u001b[0m\u001b[37m\u001b[0m \u001b[1m5s\u001b[0m 3ms/step - loss: 26855.0879 - mae: 91.0285 - val_loss: 25767.9199 - val_mae: 89.5038\n",
            "Epoch 8/10\n",
            "\u001b[1m876/876\u001b[0m \u001b[32m━━━━━━━━━━━━━━━━━━━━\u001b[0m\u001b[37m\u001b[0m \u001b[1m5s\u001b[0m 3ms/step - loss: 27025.2637 - mae: 91.7063 - val_loss: 25436.2598 - val_mae: 87.9080\n",
            "Epoch 9/10\n",
            "\u001b[1m876/876\u001b[0m \u001b[32m━━━━━━━━━━━━━━━━━━━━\u001b[0m\u001b[37m\u001b[0m \u001b[1m5s\u001b[0m 3ms/step - loss: 25996.6738 - mae: 89.1120 - val_loss: 25542.0664 - val_mae: 88.9921\n",
            "Epoch 10/10\n",
            "\u001b[1m876/876\u001b[0m \u001b[32m━━━━━━━━━━━━━━━━━━━━\u001b[0m\u001b[37m\u001b[0m \u001b[1m6s\u001b[0m 4ms/step - loss: 26237.1797 - mae: 89.6348 - val_loss: 25472.1543 - val_mae: 87.2739\n"
          ]
        }
      ]
    },
    {
      "cell_type": "code",
      "source": [
        "# Predict future solar irradiance for all three locations\n",
        "y_pred_scaled = model.predict(X_test)\n",
        "y_pred = scaler_y.inverse_transform(y_pred_scaled)\n",
        "# Set negative irradiance values to 0\n",
        "y_pred[y_pred < 1] = 0\n",
        "# Apply nighttime condition to predicted values\n",
        "nighttime_indices = X_test[:, 1] == 0  # Check if the 'hour_sin' feature indicates nighttime\n",
        "y_pred[nighttime_indices, :] = 0  # Set all predictions to 0 during nighttime"
      ],
      "metadata": {
        "colab": {
          "base_uri": "https://localhost:8080/"
        },
        "id": "LOjekJd72ovo",
        "outputId": "3c04e21b-9239-41e2-f38d-df3734f13a4b"
      },
      "execution_count": null,
      "outputs": [
        {
          "output_type": "stream",
          "name": "stdout",
          "text": [
            "\u001b[1m55/55\u001b[0m \u001b[32m━━━━━━━━━━━━━━━━━━━━\u001b[0m\u001b[37m\u001b[0m \u001b[1m0s\u001b[0m 4ms/step\n"
          ]
        }
      ]
    },
    {
      "cell_type": "code",
      "source": [
        "# Convert predictions into a DataFrame\n",
        "predictions_df = timestamps_test.copy()\n",
        "\n",
        "# Assign each column separately\n",
        "predictions_df[['DNI_A']] = y_pred"
      ],
      "metadata": {
        "id": "8IdbseJv3CKz"
      },
      "execution_count": null,
      "outputs": []
    },
    {
      "cell_type": "code",
      "source": [
        "# Print first 100 predictions with date and hour\n",
        "print(predictions_df.head(100))\n",
        "predictions_df.to_csv(\"solar_irradiance_predictions.csv\", index=False)  # Saves to a CSV]"
      ],
      "metadata": {
        "colab": {
          "base_uri": "https://localhost:8080/"
        },
        "id": "98M8JsdV3COJ",
        "outputId": "3a45642c-ad54-422c-d9fb-2b3f2e3dcc3f"
      },
      "execution_count": null,
      "outputs": [
        {
          "output_type": "stream",
          "name": "stdout",
          "text": [
            "      Month  Day  Hour       DNI_A\n",
            "6056      9   10     8  233.309006\n",
            "5556      8   20    12    0.000000\n",
            "5990      9    7    14  307.345459\n",
            "7674     11   16    18    4.429890\n",
            "3319      5   19     7  124.877922\n",
            "...     ...  ...   ...         ...\n",
            "6006      9    8     6    0.000000\n",
            "8063     12    2    23    0.000000\n",
            "14        1    1    14  463.925720\n",
            "5306      8   10     2    0.000000\n",
            "8524     12   22     4    0.000000\n",
            "\n",
            "[100 rows x 4 columns]\n"
          ]
        }
      ]
    },
    {
      "cell_type": "code",
      "source": [
        "# Save using the new format:\n",
        "model.save(\"solar_irradiance_predictions.keras\")  # Or model.save(\"my_model\") - the .keras is optional\n",
        "\n",
        "# Load using the new format:\n",
        "model = keras.models.load_model(\"solar_irradiance_predictions.keras\")  # Or model = keras.models.load_model(\"my_model\")"
      ],
      "metadata": {
        "id": "puUcFKZDAnOu"
      },
      "execution_count": null,
      "outputs": []
    },
    {
      "cell_type": "code",
      "source": [
        "#  Load the scalers used during training\n",
        "\n",
        "with open(\"scaler_X.pkl\", \"rb\") as f:\n",
        "    scaler_X = pickle.load(f)\n",
        "with open(\"scaler_y.pkl\", \"rb\") as f:\n",
        "    scaler_y = pickle.load(f)"
      ],
      "metadata": {
        "id": "gZGmN3-zAnR0"
      },
      "execution_count": null,
      "outputs": []
    },
    {
      "cell_type": "code",
      "source": [
        "# Generate timestamps for the first week of March 2025 (hourly)\n",
        "date_range = pd.date_range(start=\"2025-03-01\", end=\"2025-03-07 23:00:00\", freq=\"H\")\n",
        "future_df = pd.DataFrame({\"datetime\": date_range})"
      ],
      "metadata": {
        "id": "7-2OXJ9dArho",
        "outputId": "c32b3bae-9bde-4ecd-d656-b86ad8a16676",
        "colab": {
          "base_uri": "https://localhost:8080/"
        }
      },
      "execution_count": null,
      "outputs": [
        {
          "output_type": "stream",
          "name": "stderr",
          "text": [
            "<ipython-input-79-0e223ba96d09>:2: FutureWarning: 'H' is deprecated and will be removed in a future version, please use 'h' instead.\n",
            "  date_range = pd.date_range(start=\"2025-03-01\", end=\"2025-03-07 23:00:00\", freq=\"H\")\n"
          ]
        }
      ]
    },
    {
      "cell_type": "code",
      "source": [
        "# Generate random values\n",
        "future_df[\"Temperature_A\"] = np.random.uniform(27, 30, size=168)  # Temperature between 15°C to 30°C\n",
        "future_df[\"Pressure_A\"] = np.random.uniform(1000, 1050, size=168)  # Pressure between 950-1050 hPa\n",
        "future_df[\"Surface Albedo_A\"] = np.random.uniform(0.1, 0.5, size=168)  # Albedo between 0.1 - 0.5\n",
        "future_df[\"Cloud Type_A\"] = np.random.randint(0, 4, size=168)  # Cloud types (0-3)\n",
        "\n",
        "# Merge the first week’s random values with `future_df`\n",
        "#future_df = future_df.merge(future_df, on=[\"Month\", \"Day\"], how=\"left\")\n",
        "\n",
        "# Time-based encoding (sin/cos transformation)\n",
        "#future_df[\"hour_sin\"] = np.sin(2 * np.pi * future_df[\"hour\"] / 24)\n",
        "#future_df[\"hour_cos\"] = np.cos(2 * np.pi * future_df[\"hour\"] / 24)\n",
        "\n",
        "# Select the same features used in training\n",
        "#X_future = future_df[['hour_sin', 'hour_cos', 'Temperature_A', 'Pressure_A', 'day', 'Month', 'Surface Albedo_A', 'Cloud Type_A']].values"
      ],
      "metadata": {
        "id": "e7HqObYi70BB"
      },
      "execution_count": null,
      "outputs": []
    },
    {
      "cell_type": "code",
      "source": [
        "#  Feature Engineering\n",
        "future_df[\"day\"] = future_df[\"datetime\"].dt.day\n",
        "future_df[\"month\"] = future_df[\"datetime\"].dt.month\n",
        "future_df[\"hour\"] = future_df[\"datetime\"].dt.hour\n",
        "future_df.drop(columns=[\"datetime\"], inplace=True)\n",
        "print(future_df)"
      ],
      "metadata": {
        "id": "G55MNz34AnVq",
        "outputId": "0ec1b4e0-63eb-47f4-9372-f89ba62981bf",
        "colab": {
          "base_uri": "https://localhost:8080/"
        }
      },
      "execution_count": null,
      "outputs": [
        {
          "output_type": "stream",
          "name": "stdout",
          "text": [
            "     Temperature_A   Pressure_A  Surface Albedo_A  Cloud Type_A  day  month  \\\n",
            "0        28.333113  1023.655659          0.307955             2    1      3   \n",
            "1        28.993038  1005.952408          0.127955             2    1      3   \n",
            "2        28.152701  1012.844820          0.445678             0    1      3   \n",
            "3        27.911094  1029.381624          0.409421             1    1      3   \n",
            "4        29.581825  1015.295630          0.477750             2    1      3   \n",
            "..             ...          ...               ...           ...  ...    ...   \n",
            "163      27.696067  1021.412293          0.160544             1    7      3   \n",
            "164      29.988212  1010.416955          0.453453             3    7      3   \n",
            "165      27.039104  1033.847837          0.331844             3    7      3   \n",
            "166      29.004933  1048.215513          0.429559             1    7      3   \n",
            "167      29.130454  1018.775760          0.175378             3    7      3   \n",
            "\n",
            "     hour  \n",
            "0       0  \n",
            "1       1  \n",
            "2       2  \n",
            "3       3  \n",
            "4       4  \n",
            "..    ...  \n",
            "163    19  \n",
            "164    20  \n",
            "165    21  \n",
            "166    22  \n",
            "167    23  \n",
            "\n",
            "[168 rows x 7 columns]\n"
          ]
        }
      ]
    },
    {
      "cell_type": "code",
      "source": [
        "# Time-based encoding (sin/cos transformation)\n",
        "future_df[\"hour_sin\"] = np.sin(2 * np.pi * future_df[\"hour\"] / 24)\n",
        "future_df[\"hour_cos\"] = np.cos(2 * np.pi * future_df[\"hour\"] / 24)"
      ],
      "metadata": {
        "id": "VNccIBlXAx3h"
      },
      "execution_count": null,
      "outputs": []
    },
    {
      "cell_type": "code",
      "source": [
        "#  Select the same features used in training\n",
        "X_future = future_df[['hour_sin', 'hour_cos', 'Temperature_A','Pressure_A', 'day','month', 'Surface Albedo_A', 'Cloud Type_A']].values\n",
        "#  Scale future data using the trained scaler\n",
        "X_future_scaled = scaler_X.transform(X_future)\n",
        "print(X_future_scaled)\n"
      ],
      "metadata": {
        "id": "_hgX_tASA1fh",
        "outputId": "894d6781-4175-4534-a27b-23867860bb13",
        "colab": {
          "base_uri": "https://localhost:8080/"
        }
      },
      "execution_count": null,
      "outputs": [
        {
          "output_type": "stream",
          "name": "stdout",
          "text": [
            "[[ 0.5         1.          0.61758015 ...  0.18181818  3.35909429\n",
            "   0.22222222]\n",
            " [ 0.62940952  0.98296291  0.63782324 ...  0.18181818 -0.24090413\n",
            "   0.22222222]\n",
            " [ 0.75        0.9330127   0.61204603 ...  0.18181818  6.11356249\n",
            "   0.        ]\n",
            " ...\n",
            " [ 0.14644661  0.85355339  0.57788661 ...  0.18181818  3.83688886\n",
            "   0.33333333]\n",
            " [ 0.25        0.9330127   0.63818812 ...  0.18181818  5.79118346\n",
            "   0.11111111]\n",
            " [ 0.37059048  0.98296291  0.64203845 ...  0.18181818  0.7075579\n",
            "   0.33333333]]\n"
          ]
        }
      ]
    },
    {
      "cell_type": "code",
      "source": [
        "#  Make predictions\n",
        "y_future_scaled = model.predict(X_future_scaled)\n",
        "print(y_future_scaled)\n",
        "\n",
        "#  Inverse scale predictions\n",
        "y_future = scaler_y.inverse_transform(y_future_scaled)\n",
        "print(y_future)\n",
        "#  Set negative irradiance values to 0\n",
        "y_future[y_future < 1] = 0\n",
        "print(y_future)"
      ],
      "metadata": {
        "id": "j9fFf3iAA19-",
        "outputId": "e7ed594d-369d-4013-8b4d-035d271d64c6",
        "colab": {
          "base_uri": "https://localhost:8080/"
        }
      },
      "execution_count": null,
      "outputs": [
        {
          "output_type": "stream",
          "name": "stdout",
          "text": [
            "\u001b[1m6/6\u001b[0m \u001b[32m━━━━━━━━━━━━━━━━━━━━\u001b[0m\u001b[37m\u001b[0m \u001b[1m0s\u001b[0m 13ms/step\n",
            "[[-8.32570553e+00]\n",
            " [ 7.47584641e-01]\n",
            " [ 8.00893326e+01]\n",
            " [ 1.83561554e+02]\n",
            " [ 4.89122253e+02]\n",
            " [ 1.76697998e+02]\n",
            " [ 8.44021378e+01]\n",
            " [ 1.05241455e+03]\n",
            " [ 1.04058484e+03]\n",
            " [ 5.99540894e+02]\n",
            " [ 2.82916016e+02]\n",
            " [ 1.07699805e+03]\n",
            " [ 1.42041479e+03]\n",
            " [ 7.63961060e+02]\n",
            " [ 8.21534058e+02]\n",
            " [ 1.11703577e+03]\n",
            " [ 1.17911646e+03]\n",
            " [ 1.07019653e+03]\n",
            " [ 8.80736771e+01]\n",
            " [ 1.64848877e+02]\n",
            " [ 4.97191727e-01]\n",
            " [-3.21490669e+01]\n",
            " [-2.33065472e+01]\n",
            " [ 7.06527054e-01]\n",
            " [-3.09285998e+00]\n",
            " [ 4.71440613e-01]\n",
            " [ 4.22207594e+00]\n",
            " [ 9.84349346e+00]\n",
            " [ 4.92256042e+02]\n",
            " [ 7.14981985e+00]\n",
            " [ 7.09693726e+02]\n",
            " [ 6.26991089e+02]\n",
            " [ 6.39963867e+02]\n",
            " [ 6.01654175e+02]\n",
            " [ 1.24004077e+03]\n",
            " [ 1.38188062e+03]\n",
            " [ 1.26392114e+03]\n",
            " [ 8.81789612e+02]\n",
            " [ 8.18575806e+02]\n",
            " [ 9.44570068e+02]\n",
            " [ 8.69063110e+02]\n",
            " [ 6.73220215e+02]\n",
            " [ 5.73885803e+02]\n",
            " [ 8.25072632e+02]\n",
            " [ 4.85285858e+02]\n",
            " [ 1.59261703e+02]\n",
            " [ 7.13565171e-01]\n",
            " [ 4.34148741e+00]\n",
            " [ 1.19179845e+00]\n",
            " [-1.38303447e+00]\n",
            " [ 2.96236730e+00]\n",
            " [ 7.01216650e+00]\n",
            " [ 7.55986929e+00]\n",
            " [ 2.41860714e+01]\n",
            " [ 7.50869934e+02]\n",
            " [ 8.24132446e+02]\n",
            " [ 5.41346680e+02]\n",
            " [ 5.87684448e+02]\n",
            " [ 1.45229797e+03]\n",
            " [ 5.50623657e+02]\n",
            " [ 6.77989441e+02]\n",
            " [ 1.34671094e+03]\n",
            " [ 1.45740991e+03]\n",
            " [ 1.42158850e+03]\n",
            " [ 4.14823456e+02]\n",
            " [ 1.04096765e+03]\n",
            " [ 2.38539677e+01]\n",
            " [ 2.90064411e+01]\n",
            " [ 9.66637707e+00]\n",
            " [ 3.01118469e+02]\n",
            " [-2.31196251e+01]\n",
            " [ 4.47343779e+00]\n",
            " [ 1.26049733e+00]\n",
            " [-8.67435551e+00]\n",
            " [ 7.12476301e+00]\n",
            " [ 3.54454712e+02]\n",
            " [ 1.19461159e+02]\n",
            " [ 1.31397141e+02]\n",
            " [ 1.57330994e+02]\n",
            " [ 1.11117554e+03]\n",
            " [ 3.83840149e+02]\n",
            " [ 9.22393677e+02]\n",
            " [ 1.28745081e+03]\n",
            " [ 1.40362427e+03]\n",
            " [ 8.89451294e+02]\n",
            " [ 6.68000366e+02]\n",
            " [ 1.48065808e+03]\n",
            " [ 7.13056030e+02]\n",
            " [ 3.55622406e+02]\n",
            " [ 3.74531372e+02]\n",
            " [ 1.82419342e+02]\n",
            " [ 6.04852112e+02]\n",
            " [ 3.05041016e+02]\n",
            " [ 9.47625351e+01]\n",
            " [ 6.91310227e-01]\n",
            " [ 4.25753164e+00]\n",
            " [-3.88206978e+01]\n",
            " [ 8.62770233e+01]\n",
            " [-1.20472765e+01]\n",
            " [ 8.87843430e-01]\n",
            " [ 9.39639282e+01]\n",
            " [ 4.95343994e+02]\n",
            " [ 1.07548695e+01]\n",
            " [ 7.79276428e+02]\n",
            " [ 7.74257324e+02]\n",
            " [ 9.11489197e+02]\n",
            " [ 7.66991821e+02]\n",
            " [ 4.63502655e+02]\n",
            " [ 1.01283899e+03]\n",
            " [ 1.33247876e+03]\n",
            " [ 1.03824121e+03]\n",
            " [ 7.61614380e+02]\n",
            " [ 1.12010474e+03]\n",
            " [ 2.16384430e+02]\n",
            " [ 2.26448959e+02]\n",
            " [ 1.11329842e+01]\n",
            " [ 1.27953423e+02]\n",
            " [-5.15135622e+00]\n",
            " [ 3.84826589e+00]\n",
            " [ 6.66925888e+01]\n",
            " [-2.42921519e+00]\n",
            " [ 8.79176438e-01]\n",
            " [ 2.44837830e+02]\n",
            " [ 1.95988007e+02]\n",
            " [ 5.06208496e+01]\n",
            " [ 3.78613129e+02]\n",
            " [ 6.56672516e+01]\n",
            " [ 3.74889801e+02]\n",
            " [ 4.55793488e+02]\n",
            " [ 9.77044739e+02]\n",
            " [ 1.04747803e+03]\n",
            " [ 1.17590344e+03]\n",
            " [ 5.97395447e+02]\n",
            " [ 1.42522021e+03]\n",
            " [ 1.33227710e+03]\n",
            " [ 2.66396149e+02]\n",
            " [ 1.15635474e+03]\n",
            " [ 4.84389160e+02]\n",
            " [ 6.41118393e+01]\n",
            " [-1.43146267e+01]\n",
            " [ 6.80703552e+02]\n",
            " [ 2.01993637e+01]\n",
            " [-8.02635849e-01]\n",
            " [ 6.66215241e-01]\n",
            " [-3.74813735e-01]\n",
            " [-6.20259333e+00]\n",
            " [ 1.01105331e+02]\n",
            " [ 1.21760678e+00]\n",
            " [ 3.98415131e+02]\n",
            " [ 3.73106842e+02]\n",
            " [ 5.71958008e+02]\n",
            " [ 5.36823242e+02]\n",
            " [ 5.40609741e+02]\n",
            " [ 3.91478210e+02]\n",
            " [ 8.67042358e+02]\n",
            " [ 1.61236182e+03]\n",
            " [ 8.17798950e+02]\n",
            " [ 1.23792090e+03]\n",
            " [ 1.15343896e+03]\n",
            " [ 1.41158069e+03]\n",
            " [ 6.95146240e+02]\n",
            " [ 7.67599854e+02]\n",
            " [ 4.60333893e+02]\n",
            " [ 6.12936354e+00]\n",
            " [ 3.59863495e+02]\n",
            " [-4.28320765e-02]\n",
            " [ 1.53827454e+02]\n",
            " [ 5.19194901e-01]]\n",
            "[[-7.50978661e+00]\n",
            " [ 6.74321353e-01]\n",
            " [ 7.22405777e+01]\n",
            " [ 1.65572525e+02]\n",
            " [ 4.41188263e+02]\n",
            " [ 1.59381592e+02]\n",
            " [ 7.61307297e+01]\n",
            " [ 9.49277954e+02]\n",
            " [ 9.38607544e+02]\n",
            " [ 5.40785889e+02]\n",
            " [ 2.55190247e+02]\n",
            " [ 9.71452209e+02]\n",
            " [ 1.28121411e+03]\n",
            " [ 6.89092896e+02]\n",
            " [ 7.41023743e+02]\n",
            " [ 1.00756628e+03]\n",
            " [ 1.06356299e+03]\n",
            " [ 9.65317261e+02]\n",
            " [ 7.94424591e+01]\n",
            " [ 1.48693680e+02]\n",
            " [ 4.48466927e-01]\n",
            " [-2.89984589e+01]\n",
            " [-2.10225048e+01]\n",
            " [ 6.37287378e-01]\n",
            " [-2.78975964e+00]\n",
            " [ 4.25239444e-01]\n",
            " [ 3.80831242e+00]\n",
            " [ 8.87883091e+00]\n",
            " [ 4.44014954e+02]\n",
            " [ 6.44913769e+00]\n",
            " [ 6.40143738e+02]\n",
            " [ 5.65545959e+02]\n",
            " [ 5.77247437e+02]\n",
            " [ 5.42692078e+02]\n",
            " [ 1.11851672e+03]\n",
            " [ 1.24645630e+03]\n",
            " [ 1.14005688e+03]\n",
            " [ 7.95374207e+02]\n",
            " [ 7.38355347e+02]\n",
            " [ 8.52002197e+02]\n",
            " [ 7.83894897e+02]\n",
            " [ 6.07244629e+02]\n",
            " [ 5.17645020e+02]\n",
            " [ 7.44215515e+02]\n",
            " [ 4.37727844e+02]\n",
            " [ 1.43654053e+02]\n",
            " [ 6.43635809e-01]\n",
            " [ 3.91602159e+00]\n",
            " [ 1.07500219e+00]\n",
            " [-1.24749708e+00]\n",
            " [ 2.67205524e+00]\n",
            " [ 6.32497406e+00]\n",
            " [ 6.81900215e+00]\n",
            " [ 2.18158360e+01]\n",
            " [ 6.77284668e+02]\n",
            " [ 7.43367493e+02]\n",
            " [ 4.88294708e+02]\n",
            " [ 5.30091370e+02]\n",
            " [ 1.30997278e+03]\n",
            " [ 4.96662537e+02]\n",
            " [ 6.11546448e+02]\n",
            " [ 1.21473328e+03]\n",
            " [ 1.31458374e+03]\n",
            " [ 1.28227283e+03]\n",
            " [ 3.74170746e+02]\n",
            " [ 9.38952820e+02]\n",
            " [ 2.15162792e+01]\n",
            " [ 2.61638107e+01]\n",
            " [ 8.71907234e+00]\n",
            " [ 2.71608856e+02]\n",
            " [-2.08539009e+01]\n",
            " [ 4.03504086e+00]\n",
            " [ 1.13696861e+00]\n",
            " [-7.82426882e+00]\n",
            " [ 6.42653608e+00]\n",
            " [ 3.19718140e+02]\n",
            " [ 1.07753967e+02]\n",
            " [ 1.18520218e+02]\n",
            " [ 1.41912552e+02]\n",
            " [ 1.00228033e+03]\n",
            " [ 3.46223816e+02]\n",
            " [ 8.31999084e+02]\n",
            " [ 1.16128064e+03]\n",
            " [ 1.26606909e+03]\n",
            " [ 8.02285095e+02]\n",
            " [ 6.02536316e+02]\n",
            " [ 1.33555359e+03]\n",
            " [ 6.43176514e+02]\n",
            " [ 3.20771423e+02]\n",
            " [ 3.37827301e+02]\n",
            " [ 1.64542252e+02]\n",
            " [ 5.45576599e+02]\n",
            " [ 2.75147003e+02]\n",
            " [ 8.54758072e+01]\n",
            " [ 6.23561800e-01]\n",
            " [ 3.84029365e+00]\n",
            " [-3.50162697e+01]\n",
            " [ 7.78218765e+01]\n",
            " [-1.08666430e+01]\n",
            " [ 8.00834775e-01]\n",
            " [ 8.47554626e+01]\n",
            " [ 4.46800293e+02]\n",
            " [ 9.70089245e+00]\n",
            " [ 7.02907349e+02]\n",
            " [ 6.98380127e+02]\n",
            " [ 8.22163269e+02]\n",
            " [ 6.91826599e+02]\n",
            " [ 4.18079407e+02]\n",
            " [ 9.13580750e+02]\n",
            " [ 1.20189587e+03]\n",
            " [ 9.36493591e+02]\n",
            " [ 6.86976196e+02]\n",
            " [ 1.01033447e+03]\n",
            " [ 1.95178757e+02]\n",
            " [ 2.04256958e+02]\n",
            " [ 1.00419521e+01]\n",
            " [ 1.15413986e+02]\n",
            " [-4.64652348e+00]\n",
            " [ 3.47113585e+00]\n",
            " [ 6.01567154e+01]\n",
            " [-2.19115210e+00]\n",
            " [ 7.93017149e-01]\n",
            " [ 2.20843719e+02]\n",
            " [ 1.76781189e+02]\n",
            " [ 4.56600075e+01]\n",
            " [ 3.41509033e+02]\n",
            " [ 5.92318611e+01]\n",
            " [ 3.38150604e+02]\n",
            " [ 4.11125732e+02]\n",
            " [ 8.81294373e+02]\n",
            " [ 9.44825195e+02]\n",
            " [ 1.06066492e+03]\n",
            " [ 5.38850708e+02]\n",
            " [ 1.28554858e+03]\n",
            " [ 1.20171399e+03]\n",
            " [ 2.40289322e+02]\n",
            " [ 1.04303198e+03]\n",
            " [ 4.36919037e+02]\n",
            " [ 5.78288803e+01]\n",
            " [-1.29117937e+01]\n",
            " [ 6.13994629e+02]\n",
            " [ 1.82198257e+01]\n",
            " [-7.23977506e-01]\n",
            " [ 6.00926161e-01]\n",
            " [-3.38081986e-01]\n",
            " [-5.59473896e+00]\n",
            " [ 9.11970062e+01]\n",
            " [ 1.09828126e+00]\n",
            " [ 3.59370453e+02]\n",
            " [ 3.36542358e+02]\n",
            " [ 5.15906128e+02]\n",
            " [ 4.84214569e+02]\n",
            " [ 4.87629974e+02]\n",
            " [ 3.53113342e+02]\n",
            " [ 7.82072205e+02]\n",
            " [ 1.45435034e+03]\n",
            " [ 7.37654663e+02]\n",
            " [ 1.11660461e+03]\n",
            " [ 1.04040198e+03]\n",
            " [ 1.27324573e+03]\n",
            " [ 6.27021912e+02]\n",
            " [ 6.92375061e+02]\n",
            " [ 4.15221161e+02]\n",
            " [ 5.52868605e+00]\n",
            " [ 3.24596863e+02]\n",
            " [-3.86345312e-02]\n",
            " [ 1.38752365e+02]\n",
            " [ 4.68313813e-01]]\n",
            "[[0.00000000e+00]\n",
            " [0.00000000e+00]\n",
            " [7.22405777e+01]\n",
            " [1.65572525e+02]\n",
            " [4.41188263e+02]\n",
            " [1.59381592e+02]\n",
            " [7.61307297e+01]\n",
            " [9.49277954e+02]\n",
            " [9.38607544e+02]\n",
            " [5.40785889e+02]\n",
            " [2.55190247e+02]\n",
            " [9.71452209e+02]\n",
            " [1.28121411e+03]\n",
            " [6.89092896e+02]\n",
            " [7.41023743e+02]\n",
            " [1.00756628e+03]\n",
            " [1.06356299e+03]\n",
            " [9.65317261e+02]\n",
            " [7.94424591e+01]\n",
            " [1.48693680e+02]\n",
            " [0.00000000e+00]\n",
            " [0.00000000e+00]\n",
            " [0.00000000e+00]\n",
            " [0.00000000e+00]\n",
            " [0.00000000e+00]\n",
            " [0.00000000e+00]\n",
            " [3.80831242e+00]\n",
            " [8.87883091e+00]\n",
            " [4.44014954e+02]\n",
            " [6.44913769e+00]\n",
            " [6.40143738e+02]\n",
            " [5.65545959e+02]\n",
            " [5.77247437e+02]\n",
            " [5.42692078e+02]\n",
            " [1.11851672e+03]\n",
            " [1.24645630e+03]\n",
            " [1.14005688e+03]\n",
            " [7.95374207e+02]\n",
            " [7.38355347e+02]\n",
            " [8.52002197e+02]\n",
            " [7.83894897e+02]\n",
            " [6.07244629e+02]\n",
            " [5.17645020e+02]\n",
            " [7.44215515e+02]\n",
            " [4.37727844e+02]\n",
            " [1.43654053e+02]\n",
            " [0.00000000e+00]\n",
            " [3.91602159e+00]\n",
            " [1.07500219e+00]\n",
            " [0.00000000e+00]\n",
            " [2.67205524e+00]\n",
            " [6.32497406e+00]\n",
            " [6.81900215e+00]\n",
            " [2.18158360e+01]\n",
            " [6.77284668e+02]\n",
            " [7.43367493e+02]\n",
            " [4.88294708e+02]\n",
            " [5.30091370e+02]\n",
            " [1.30997278e+03]\n",
            " [4.96662537e+02]\n",
            " [6.11546448e+02]\n",
            " [1.21473328e+03]\n",
            " [1.31458374e+03]\n",
            " [1.28227283e+03]\n",
            " [3.74170746e+02]\n",
            " [9.38952820e+02]\n",
            " [2.15162792e+01]\n",
            " [2.61638107e+01]\n",
            " [8.71907234e+00]\n",
            " [2.71608856e+02]\n",
            " [0.00000000e+00]\n",
            " [4.03504086e+00]\n",
            " [1.13696861e+00]\n",
            " [0.00000000e+00]\n",
            " [6.42653608e+00]\n",
            " [3.19718140e+02]\n",
            " [1.07753967e+02]\n",
            " [1.18520218e+02]\n",
            " [1.41912552e+02]\n",
            " [1.00228033e+03]\n",
            " [3.46223816e+02]\n",
            " [8.31999084e+02]\n",
            " [1.16128064e+03]\n",
            " [1.26606909e+03]\n",
            " [8.02285095e+02]\n",
            " [6.02536316e+02]\n",
            " [1.33555359e+03]\n",
            " [6.43176514e+02]\n",
            " [3.20771423e+02]\n",
            " [3.37827301e+02]\n",
            " [1.64542252e+02]\n",
            " [5.45576599e+02]\n",
            " [2.75147003e+02]\n",
            " [8.54758072e+01]\n",
            " [0.00000000e+00]\n",
            " [3.84029365e+00]\n",
            " [0.00000000e+00]\n",
            " [7.78218765e+01]\n",
            " [0.00000000e+00]\n",
            " [0.00000000e+00]\n",
            " [8.47554626e+01]\n",
            " [4.46800293e+02]\n",
            " [9.70089245e+00]\n",
            " [7.02907349e+02]\n",
            " [6.98380127e+02]\n",
            " [8.22163269e+02]\n",
            " [6.91826599e+02]\n",
            " [4.18079407e+02]\n",
            " [9.13580750e+02]\n",
            " [1.20189587e+03]\n",
            " [9.36493591e+02]\n",
            " [6.86976196e+02]\n",
            " [1.01033447e+03]\n",
            " [1.95178757e+02]\n",
            " [2.04256958e+02]\n",
            " [1.00419521e+01]\n",
            " [1.15413986e+02]\n",
            " [0.00000000e+00]\n",
            " [3.47113585e+00]\n",
            " [6.01567154e+01]\n",
            " [0.00000000e+00]\n",
            " [0.00000000e+00]\n",
            " [2.20843719e+02]\n",
            " [1.76781189e+02]\n",
            " [4.56600075e+01]\n",
            " [3.41509033e+02]\n",
            " [5.92318611e+01]\n",
            " [3.38150604e+02]\n",
            " [4.11125732e+02]\n",
            " [8.81294373e+02]\n",
            " [9.44825195e+02]\n",
            " [1.06066492e+03]\n",
            " [5.38850708e+02]\n",
            " [1.28554858e+03]\n",
            " [1.20171399e+03]\n",
            " [2.40289322e+02]\n",
            " [1.04303198e+03]\n",
            " [4.36919037e+02]\n",
            " [5.78288803e+01]\n",
            " [0.00000000e+00]\n",
            " [6.13994629e+02]\n",
            " [1.82198257e+01]\n",
            " [0.00000000e+00]\n",
            " [0.00000000e+00]\n",
            " [0.00000000e+00]\n",
            " [0.00000000e+00]\n",
            " [9.11970062e+01]\n",
            " [1.09828126e+00]\n",
            " [3.59370453e+02]\n",
            " [3.36542358e+02]\n",
            " [5.15906128e+02]\n",
            " [4.84214569e+02]\n",
            " [4.87629974e+02]\n",
            " [3.53113342e+02]\n",
            " [7.82072205e+02]\n",
            " [1.45435034e+03]\n",
            " [7.37654663e+02]\n",
            " [1.11660461e+03]\n",
            " [1.04040198e+03]\n",
            " [1.27324573e+03]\n",
            " [6.27021912e+02]\n",
            " [6.92375061e+02]\n",
            " [4.15221161e+02]\n",
            " [5.52868605e+00]\n",
            " [3.24596863e+02]\n",
            " [0.00000000e+00]\n",
            " [1.38752365e+02]\n",
            " [0.00000000e+00]]\n"
          ]
        }
      ]
    },
    {
      "cell_type": "code",
      "source": [
        "# Save predictions to DataFrame\n",
        "future_df[['DNI_A']] = y_future\n",
        "\n",
        "#  Save to CSV\n",
        "future_df.to_csv(\"Future_Solar_Predictions_March2025.csv\", index=False)\n",
        "\n",
        "#Display first 10 predictions\n",
        "print(future_df.head(10))"
      ],
      "metadata": {
        "id": "GbNNMPFzBAEQ",
        "outputId": "647d7faf-c34a-40db-8e04-6be40fc1ced2",
        "colab": {
          "base_uri": "https://localhost:8080/"
        }
      },
      "execution_count": null,
      "outputs": [
        {
          "output_type": "stream",
          "name": "stdout",
          "text": [
            "   Temperature_A   Pressure_A  Surface Albedo_A  Cloud Type_A  day  month  \\\n",
            "0      28.333113  1023.655659          0.307955             2    1      3   \n",
            "1      28.993038  1005.952408          0.127955             2    1      3   \n",
            "2      28.152701  1012.844820          0.445678             0    1      3   \n",
            "3      27.911094  1029.381624          0.409421             1    1      3   \n",
            "4      29.581825  1015.295630          0.477750             2    1      3   \n",
            "5      29.623727  1047.293189          0.222463             1    1      3   \n",
            "6      27.330465  1042.013080          0.114345             1    1      3   \n",
            "7      27.413788  1035.718695          0.433074             1    1      3   \n",
            "8      29.631617  1005.006870          0.454535             1    1      3   \n",
            "9      29.481597  1043.427033          0.114172             0    1      3   \n",
            "\n",
            "   hour  hour_sin      hour_cos       DNI_A  \n",
            "0     0  0.000000  1.000000e+00    0.000000  \n",
            "1     1  0.258819  9.659258e-01    0.000000  \n",
            "2     2  0.500000  8.660254e-01   72.240578  \n",
            "3     3  0.707107  7.071068e-01  165.572525  \n",
            "4     4  0.866025  5.000000e-01  441.188263  \n",
            "5     5  0.965926  2.588190e-01  159.381592  \n",
            "6     6  1.000000  6.123234e-17   76.130730  \n",
            "7     7  0.965926 -2.588190e-01  949.277954  \n",
            "8     8  0.866025 -5.000000e-01  938.607544  \n",
            "9     9  0.707107 -7.071068e-01  540.785889  \n"
          ]
        }
      ]
    }
  ]
}