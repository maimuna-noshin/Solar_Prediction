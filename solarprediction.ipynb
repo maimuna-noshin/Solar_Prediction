{
  "nbformat": 4,
  "nbformat_minor": 0,
  "metadata": {
    "colab": {
      "provenance": [],
      "include_colab_link": true
    },
    "kernelspec": {
      "name": "python3",
      "display_name": "Python 3"
    },
    "language_info": {
      "name": "python"
    }
  },
  "cells": [
    {
      "cell_type": "markdown",
      "metadata": {
        "id": "view-in-github",
        "colab_type": "text"
      },
      "source": [
        "<a href=\"https://colab.research.google.com/github/maimuna-noshin/Solar_Prediction/blob/main/solarprediction.ipynb\" target=\"_parent\"><img src=\"https://colab.research.google.com/assets/colab-badge.svg\" alt=\"Open In Colab\"/></a>"
      ]
    },
    {
      "cell_type": "code",
      "execution_count": 41,
      "metadata": {
        "id": "vQ2XqW7kluLE"
      },
      "outputs": [],
      "source": [
        "import pandas as pd\n",
        "import numpy as np\n",
        "import tensorflow as tf\n",
        "from tensorflow import keras\n",
        "from tensorflow.keras.utils import get_custom_objects\n",
        "from sklearn.model_selection import train_test_split\n",
        "from sklearn.preprocessing import MinMaxScaler\n",
        "import pickle\n",
        "from sklearn.model_selection import RandomizedSearchCV\n",
        "from scipy.stats import randint as sp_randint\n",
        "from sklearn.model_selection import RandomizedSearchCV\n",
        "from scipy.stats import randint as sp_randint\n",
        "from tensorflow.keras.layers import Dense, Dropout, LSTM, Conv1D, BatchNormalization, Flatten, Bidirectional, LayerNormalization, Input\n",
        "from sklearn.preprocessing import StandardScaler\n",
        "from scipy.fftpack import fft\n",
        "from sklearn.model_selection import train_test_split\n",
        "from tensorflow.keras.callbacks import ReduceLROnPlateau, EarlyStopping\n",
        "from tensorflow.keras.models import Sequential, Model"
      ]
    },
    {
      "cell_type": "code",
      "source": [
        "df=pd.read_csv(\"/content/updated_dataset.csv\")"
      ],
      "metadata": {
        "id": "b2EaJDk9l9JD"
      },
      "execution_count": 42,
      "outputs": []
    },
    {
      "cell_type": "code",
      "source": [
        "# Convert to datetime\n",
        "df['date'] = pd.to_datetime(df[['Year', 'Month', 'Day', 'Hour']])\n",
        "\n",
        "\n"
      ],
      "metadata": {
        "id": "8eWPZASsl9Mm"
      },
      "execution_count": 43,
      "outputs": []
    },
    {
      "cell_type": "code",
      "source": [
        "# Selecting features (X) and target variables (Y)\n",
        "features = ['Hour', 'Temperature_A','Pressure_A', 'Day','Month', 'Surface Albedo_A', 'Cloud Type_A']\n",
        "targets = ['DNI_A']  # Target variables for all three locations"
      ],
      "metadata": {
        "id": "jrLXHLggl9TK"
      },
      "execution_count": 44,
      "outputs": []
    },
    {
      "cell_type": "code",
      "source": [
        "\n",
        "X = df[features].values\n",
        "y = df[targets].values"
      ],
      "metadata": {
        "id": "qSIvZNBO2RrP"
      },
      "execution_count": 45,
      "outputs": []
    },
    {
      "cell_type": "code",
      "source": [
        "# Keep timestamps before scaling\n",
        "timestamps = df[['Month', 'Day', 'Hour']]"
      ],
      "metadata": {
        "id": "QK_c9pUC2R1G"
      },
      "execution_count": 46,
      "outputs": []
    },
    {
      "cell_type": "code",
      "source": [
        "scaler_X = MinMaxScaler()\n",
        "# Normalize features\n",
        "scaler = StandardScaler()\n",
        "X_scaled = scaler.fit_transform(X)\n",
        "scaler_y = MinMaxScaler(feature_range=(0, 1000))\n",
        "X_scaled = scaler_X.fit_transform(X)\n",
        "y_scaled = scaler_y.fit_transform(y)\n",
        "# Save the feature scaler\n",
        "with open(\"scaler_X.pkl\", \"wb\") as f:\n",
        "    pickle.dump(scaler_X, f)\n",
        "\n",
        "# Save the target scaler\n",
        "with open(\"scaler_y.pkl\", \"wb\") as f:\n",
        "    pickle.dump(scaler_y, f)\n",
        "# Create binary classification labels (0 if DNI_A == 0, 1 if DNI_A > 0)\n",
        "y_class = (y > 0).astype(int)\n"
      ],
      "metadata": {
        "id": "hQ2Kq3h82R42"
      },
      "execution_count": 47,
      "outputs": []
    },
    {
      "cell_type": "code",
      "source": [
        "hours_tensor = tf.convert_to_tensor(df['Hour'].values, dtype=tf.float32)\n"
      ],
      "metadata": {
        "id": "PQecOZDwu71w"
      },
      "execution_count": 48,
      "outputs": []
    },
    {
      "cell_type": "code",
      "source": [
        "# Split data into training and testing sets\n",
        "X_train, X_test, y_train, y_test, timestamps_train, timestamps_test = train_test_split(X_scaled, y_scaled,timestamps, test_size=0.2, random_state=42)\n",
        "\n",
        "# Correct Boolean Masking for Selecting Nonzero DNI_A Cases\n",
        "daytime_mask = y > 0  # Creates a boolean mask where DNI_A > 0\n",
        "X_day = X_scaled[daytime_mask.flatten()]  # Apply mask to X_scaled\n",
        "y_day = y[daytime_mask]  # Apply mask to y\n",
        "\n",
        "# Split Data for Regression\n",
        "X_train_reg, X_test_reg, y_train_reg, y_test_reg = train_test_split(X_day, y_day, test_size=0.2, random_state=42)\n"
      ],
      "metadata": {
        "id": "EZ3DTavB2R8l"
      },
      "execution_count": 49,
      "outputs": []
    },
    {
      "cell_type": "code",
      "source": [
        "def custom_loss_fixed(y_true, y_pred):\n",
        "    batch_size = tf.shape(y_true)[0]\n",
        "    batch_hours = tf.gather(hours_tensor, tf.range(batch_size))  # Use hours_tensor instead of hours\n",
        "\n",
        "    nighttime_mask = tf.logical_or(tf.less_equal(batch_hours, 8), tf.greater_equal(batch_hours, 18))\n",
        "    nighttime_mask = tf.cast(nighttime_mask, tf.float32)\n",
        "\n",
        "    mse_loss = tf.keras.losses.MSE(y_true, y_pred)\n",
        "    penalty_factor = 50.0\n",
        "    weighted_loss = mse_loss * (1 + (penalty_factor - 1) * nighttime_mask)\n",
        "\n",
        "    return tf.reduce_mean(weighted_loss)\n",
        "\n",
        "\n"
      ],
      "metadata": {
        "id": "TXzT_iAmLeVi"
      },
      "execution_count": 50,
      "outputs": []
    },
    {
      "cell_type": "code",
      "source": [
        "# Classifier Model (Binary: 0 = No irradiance, 1 = Some irradiance)\n",
        "classifier = Sequential([\n",
        "    Dense(64, activation=\"relu\", input_shape=(X_train.shape[1],)),\n",
        "    Dense(32, activation=\"relu\"),\n",
        "    Dense(1, activation=\"sigmoid\")  # Output probability of nonzero irradiance\n",
        "])\n"
      ],
      "metadata": {
        "colab": {
          "base_uri": "https://localhost:8080/"
        },
        "id": "ztt3RdnS2g_8",
        "outputId": "3b5ab09e-99fb-415d-c14a-905119993c0c"
      },
      "execution_count": 51,
      "outputs": [
        {
          "output_type": "stream",
          "name": "stderr",
          "text": [
            "/usr/local/lib/python3.11/dist-packages/keras/src/layers/core/dense.py:87: UserWarning: Do not pass an `input_shape`/`input_dim` argument to a layer. When using Sequential models, prefer using an `Input(shape)` object as the first layer in the model instead.\n",
            "  super().__init__(activity_regularizer=activity_regularizer, **kwargs)\n"
          ]
        }
      ]
    },
    {
      "cell_type": "code",
      "source": [
        "classifier.compile(optimizer=\"adam\", loss=\"binary_crossentropy\", metrics=[\"accuracy\"])\n",
        "classifier.fit(X_train, y_train_class, epochs=10, batch_size=8, validation_data=(X_test, y_test_class))"
      ],
      "metadata": {
        "id": "SmmxLfre2R_7",
        "colab": {
          "base_uri": "https://localhost:8080/"
        },
        "outputId": "d0870624-1903-4bc9-afd7-3a6fc9f17350"
      },
      "execution_count": 52,
      "outputs": [
        {
          "output_type": "stream",
          "name": "stdout",
          "text": [
            "Epoch 1/10\n",
            "\u001b[1m876/876\u001b[0m \u001b[32m━━━━━━━━━━━━━━━━━━━━\u001b[0m\u001b[37m\u001b[0m \u001b[1m8s\u001b[0m 4ms/step - accuracy: 0.7104 - loss: 0.5573 - val_accuracy: 0.9252 - val_loss: 0.2153\n",
            "Epoch 2/10\n",
            "\u001b[1m876/876\u001b[0m \u001b[32m━━━━━━━━━━━━━━━━━━━━\u001b[0m\u001b[37m\u001b[0m \u001b[1m3s\u001b[0m 4ms/step - accuracy: 0.9238 - loss: 0.1886 - val_accuracy: 0.9167 - val_loss: 0.1738\n",
            "Epoch 3/10\n",
            "\u001b[1m876/876\u001b[0m \u001b[32m━━━━━━━━━━━━━━━━━━━━\u001b[0m\u001b[37m\u001b[0m \u001b[1m3s\u001b[0m 3ms/step - accuracy: 0.9412 - loss: 0.1396 - val_accuracy: 0.9378 - val_loss: 0.1441\n",
            "Epoch 4/10\n",
            "\u001b[1m876/876\u001b[0m \u001b[32m━━━━━━━━━━━━━━━━━━━━\u001b[0m\u001b[37m\u001b[0m \u001b[1m5s\u001b[0m 3ms/step - accuracy: 0.9402 - loss: 0.1337 - val_accuracy: 0.9418 - val_loss: 0.1323\n",
            "Epoch 5/10\n",
            "\u001b[1m876/876\u001b[0m \u001b[32m━━━━━━━━━━━━━━━━━━━━\u001b[0m\u001b[37m\u001b[0m \u001b[1m6s\u001b[0m 4ms/step - accuracy: 0.9410 - loss: 0.1257 - val_accuracy: 0.9481 - val_loss: 0.1238\n",
            "Epoch 6/10\n",
            "\u001b[1m876/876\u001b[0m \u001b[32m━━━━━━━━━━━━━━━━━━━━\u001b[0m\u001b[37m\u001b[0m \u001b[1m4s\u001b[0m 3ms/step - accuracy: 0.9525 - loss: 0.1173 - val_accuracy: 0.9509 - val_loss: 0.1205\n",
            "Epoch 7/10\n",
            "\u001b[1m876/876\u001b[0m \u001b[32m━━━━━━━━━━━━━━━━━━━━\u001b[0m\u001b[37m\u001b[0m \u001b[1m3s\u001b[0m 3ms/step - accuracy: 0.9479 - loss: 0.1168 - val_accuracy: 0.9503 - val_loss: 0.1125\n",
            "Epoch 8/10\n",
            "\u001b[1m876/876\u001b[0m \u001b[32m━━━━━━━━━━━━━━━━━━━━\u001b[0m\u001b[37m\u001b[0m \u001b[1m2s\u001b[0m 3ms/step - accuracy: 0.9594 - loss: 0.1006 - val_accuracy: 0.9566 - val_loss: 0.1186\n",
            "Epoch 9/10\n",
            "\u001b[1m876/876\u001b[0m \u001b[32m━━━━━━━━━━━━━━━━━━━━\u001b[0m\u001b[37m\u001b[0m \u001b[1m4s\u001b[0m 4ms/step - accuracy: 0.9466 - loss: 0.1111 - val_accuracy: 0.9389 - val_loss: 0.1237\n",
            "Epoch 10/10\n",
            "\u001b[1m876/876\u001b[0m \u001b[32m━━━━━━━━━━━━━━━━━━━━\u001b[0m\u001b[37m\u001b[0m \u001b[1m3s\u001b[0m 3ms/step - accuracy: 0.9558 - loss: 0.1042 - val_accuracy: 0.9481 - val_loss: 0.1077\n"
          ]
        },
        {
          "output_type": "execute_result",
          "data": {
            "text/plain": [
              "<keras.src.callbacks.history.History at 0x7dde3ab32690>"
            ]
          },
          "metadata": {},
          "execution_count": 52
        }
      ]
    },
    {
      "cell_type": "code",
      "source": [
        "# Regressor Model (Predicts DNI_A for nonzero cases)\n",
        "regressor = Sequential([\n",
        "    Dense(128, activation=\"relu\", input_shape=(X_train_reg.shape[1],)),\n",
        "    Dense(64, activation=\"relu\"),\n",
        "    Dense(1, activation=\"linear\")\n",
        "])\n",
        "\n",
        "regressor.compile(optimizer=\"adam\", loss=\"mse\", metrics=[\"mae\"])\n",
        "regressor.fit(X_train_reg, y_train_reg, epochs=10, batch_size=8, validation_data=(X_test_reg, y_test_reg))\n"
      ],
      "metadata": {
        "colab": {
          "base_uri": "https://localhost:8080/"
        },
        "id": "r8ba45bekqK6",
        "outputId": "4ded7d5b-7267-40e8-e0b5-f4892698cbdc"
      },
      "execution_count": 53,
      "outputs": [
        {
          "output_type": "stream",
          "name": "stdout",
          "text": [
            "Epoch 1/10\n",
            "\u001b[1m393/393\u001b[0m \u001b[32m━━━━━━━━━━━━━━━━━━━━\u001b[0m\u001b[37m\u001b[0m \u001b[1m3s\u001b[0m 4ms/step - loss: 135252.9375 - mae: 304.0044 - val_loss: 45217.3906 - val_mae: 175.8878\n",
            "Epoch 2/10\n",
            "\u001b[1m393/393\u001b[0m \u001b[32m━━━━━━━━━━━━━━━━━━━━\u001b[0m\u001b[37m\u001b[0m \u001b[1m2s\u001b[0m 3ms/step - loss: 47860.8867 - mae: 182.4039 - val_loss: 43234.5977 - val_mae: 172.8072\n",
            "Epoch 3/10\n",
            "\u001b[1m393/393\u001b[0m \u001b[32m━━━━━━━━━━━━━━━━━━━━\u001b[0m\u001b[37m\u001b[0m \u001b[1m1s\u001b[0m 3ms/step - loss: 46131.1016 - mae: 180.6871 - val_loss: 42129.3047 - val_mae: 169.5881\n",
            "Epoch 4/10\n",
            "\u001b[1m393/393\u001b[0m \u001b[32m━━━━━━━━━━━━━━━━━━━━\u001b[0m\u001b[37m\u001b[0m \u001b[1m1s\u001b[0m 3ms/step - loss: 43996.8633 - mae: 174.8801 - val_loss: 41850.5000 - val_mae: 167.4657\n",
            "Epoch 5/10\n",
            "\u001b[1m393/393\u001b[0m \u001b[32m━━━━━━━━━━━━━━━━━━━━\u001b[0m\u001b[37m\u001b[0m \u001b[1m2s\u001b[0m 5ms/step - loss: 43155.5195 - mae: 171.5252 - val_loss: 41884.2070 - val_mae: 168.4937\n",
            "Epoch 6/10\n",
            "\u001b[1m393/393\u001b[0m \u001b[32m━━━━━━━━━━━━━━━━━━━━\u001b[0m\u001b[37m\u001b[0m \u001b[1m2s\u001b[0m 3ms/step - loss: 41981.3789 - mae: 169.0792 - val_loss: 41382.0391 - val_mae: 166.5803\n",
            "Epoch 7/10\n",
            "\u001b[1m393/393\u001b[0m \u001b[32m━━━━━━━━━━━━━━━━━━━━\u001b[0m\u001b[37m\u001b[0m \u001b[1m2s\u001b[0m 4ms/step - loss: 42171.6172 - mae: 169.3196 - val_loss: 41385.9727 - val_mae: 166.0961\n",
            "Epoch 8/10\n",
            "\u001b[1m393/393\u001b[0m \u001b[32m━━━━━━━━━━━━━━━━━━━━\u001b[0m\u001b[37m\u001b[0m \u001b[1m2s\u001b[0m 3ms/step - loss: 42270.4570 - mae: 169.2417 - val_loss: 41362.0625 - val_mae: 166.7086\n",
            "Epoch 9/10\n",
            "\u001b[1m393/393\u001b[0m \u001b[32m━━━━━━━━━━━━━━━━━━━━\u001b[0m\u001b[37m\u001b[0m \u001b[1m1s\u001b[0m 3ms/step - loss: 41534.3281 - mae: 169.0484 - val_loss: 41179.5508 - val_mae: 165.9742\n",
            "Epoch 10/10\n",
            "\u001b[1m393/393\u001b[0m \u001b[32m━━━━━━━━━━━━━━━━━━━━\u001b[0m\u001b[37m\u001b[0m \u001b[1m1s\u001b[0m 3ms/step - loss: 42779.3008 - mae: 171.1475 - val_loss: 41129.0703 - val_mae: 165.8372\n"
          ]
        },
        {
          "output_type": "execute_result",
          "data": {
            "text/plain": [
              "<keras.src.callbacks.history.History at 0x7dde3a96fc10>"
            ]
          },
          "metadata": {},
          "execution_count": 53
        }
      ]
    },
    {
      "cell_type": "code",
      "source": [
        "# Predict probability of nonzero irradiance\n",
        "is_daytime = classifier.predict(X_test)\n",
        "\n",
        "# Predict irradiance only for nonzero cases\n",
        "irradiance_predictions = regressor.predict(X_test)\n",
        "\n",
        "# Final predictions: Apply classifier decision\n",
        "y_pred = np.where(is_daytime > 0.5, irradiance_predictions, 0)  # 0 for nighttime\n",
        "\n",
        "# Convert predictions into a DataFrame with timestamps\n",
        "predictions_df = timestamps_test.copy()\n",
        "predictions_df[\"DNI_A\"] = y_pred  # Assign predicted irradiance\n",
        "\n",
        "# Print first 100 predictions with date and hour\n",
        "print(predictions_df.head(100))\n",
        "\n",
        "# Save predictions to CSV\n",
        "predictions_df.to_csv(\"solar_irradiance_predictions.csv\", index=False)\n",
        "\n"
      ],
      "metadata": {
        "id": "8IdbseJv3CKz",
        "colab": {
          "base_uri": "https://localhost:8080/"
        },
        "outputId": "c6e4ff9a-c069-460f-d8a9-4480712edfe0"
      },
      "execution_count": 54,
      "outputs": [
        {
          "output_type": "stream",
          "name": "stdout",
          "text": [
            "\u001b[1m55/55\u001b[0m \u001b[32m━━━━━━━━━━━━━━━━━━━━\u001b[0m\u001b[37m\u001b[0m \u001b[1m0s\u001b[0m 2ms/step\n",
            "\u001b[1m55/55\u001b[0m \u001b[32m━━━━━━━━━━━━━━━━━━━━\u001b[0m\u001b[37m\u001b[0m \u001b[1m0s\u001b[0m 2ms/step\n",
            "      Month  Day  Hour       DNI_A\n",
            "6056      9   10     8  309.631104\n",
            "5556      8   20    12  316.577179\n",
            "5990      9    7    14  311.715515\n",
            "7674     11   16    18    0.000000\n",
            "3319      5   19     7  359.180939\n",
            "...     ...  ...   ...         ...\n",
            "6006      9    8     6    0.000000\n",
            "8063     12    2    23    0.000000\n",
            "14        1    1    14  458.620056\n",
            "5306      8   10     2    0.000000\n",
            "8524     12   22     4    0.000000\n",
            "\n",
            "[100 rows x 4 columns]\n"
          ]
        }
      ]
    },
    {
      "cell_type": "code",
      "source": [
        "# Save the classifier model\n",
        "classifier.save(\"solar_classifier.keras\")\n",
        "\n",
        "# Save the regressor model\n",
        "regressor.save(\"solar_regressor.keras\")"
      ],
      "metadata": {
        "id": "puUcFKZDAnOu",
        "colab": {
          "base_uri": "https://localhost:8080/"
        },
        "outputId": "e44ee843-842a-4743-b050-5967de5a3357"
      },
      "execution_count": 56,
      "outputs": [
        {
          "output_type": "stream",
          "name": "stdout",
          "text": [
            "Both models have been saved successfully!\n"
          ]
        }
      ]
    },
    {
      "cell_type": "code",
      "source": [
        "#  Load the scalers used during training\n",
        "\n",
        "with open(\"scaler_X.pkl\", \"rb\") as f:\n",
        "    scaler_X = pickle.load(f)\n",
        "with open(\"scaler_y.pkl\", \"rb\") as f:\n",
        "    scaler_y = pickle.load(f)"
      ],
      "metadata": {
        "id": "gZGmN3-zAnR0"
      },
      "execution_count": 57,
      "outputs": []
    },
    {
      "cell_type": "code",
      "source": [
        "# Generate timestamps for the first week of March 2025 (hourly)\n",
        "date_range = pd.date_range(start=\"2025-03-01\", end=\"2025-03-07 23:00:00\", freq=\"H\")\n",
        "future_df = pd.DataFrame({\"datetime\": date_range})"
      ],
      "metadata": {
        "id": "7-2OXJ9dArho",
        "outputId": "b1b9a91b-9a4e-4fdb-8900-b3eb7c2ecb4b",
        "colab": {
          "base_uri": "https://localhost:8080/"
        }
      },
      "execution_count": 58,
      "outputs": [
        {
          "output_type": "stream",
          "name": "stderr",
          "text": [
            "<ipython-input-58-0e223ba96d09>:2: FutureWarning: 'H' is deprecated and will be removed in a future version, please use 'h' instead.\n",
            "  date_range = pd.date_range(start=\"2025-03-01\", end=\"2025-03-07 23:00:00\", freq=\"H\")\n"
          ]
        }
      ]
    },
    {
      "cell_type": "code",
      "source": [
        "#  Feature Engineering\n",
        "future_df[\"day\"] = future_df[\"datetime\"].dt.day\n",
        "future_df[\"month\"] = future_df[\"datetime\"].dt.month\n",
        "future_df[\"hour\"] = future_df[\"datetime\"].dt.hour\n",
        "future_df.drop(columns=[\"datetime\"], inplace=True)"
      ],
      "metadata": {
        "id": "G55MNz34AnVq"
      },
      "execution_count": 59,
      "outputs": []
    },
    {
      "cell_type": "code",
      "source": [
        "# Generate random values\n",
        "future_df[\"Temperature_A\"] = np.random.uniform(27, 30, size=168)  # Temperature between 15°C to 30°C\n",
        "future_df[\"Pressure_A\"] = np.random.uniform(1000, 1050, size=168)  # Pressure between 950-1050 hPa\n",
        "future_df[\"Surface Albedo_A\"] = np.random.uniform(0.1, 0.5, size=168)  # Albedo between 0.1 - 0.5\n",
        "future_df[\"Cloud Type_A\"] = np.random.randint(0, 4, size=168)  # Cloud types (0-3)\n",
        "\n",
        "# Merge the first week’s random values with `future_df`\n",
        "#future_df = future_df.merge(future_df, on=[\"Month\", \"Day\"], how=\"left\")\n",
        "\n",
        "# Time-based encoding (sin/cos transformation)\n",
        "#future_df[\"hour_sin\"] = np.sin(2 * np.pi * future_df[\"hour\"] / 24)\n",
        "#future_df[\"hour_cos\"] = np.cos(2 * np.pi * future_df[\"hour\"] / 24)\n",
        "\n",
        "# Select the same features used in training\n",
        "#X_future = future_df[['hour_sin', 'hour_cos', 'Temperature_A', 'Pressure_A', 'day', 'Month', 'Surface Albedo_A', 'Cloud Type_A']].values"
      ],
      "metadata": {
        "id": "e7HqObYi70BB"
      },
      "execution_count": 60,
      "outputs": []
    },
    {
      "cell_type": "code",
      "source": [
        "#  Select the same features used in training\n",
        "X_future = future_df[['hour', 'Temperature_A','Pressure_A', 'day','month', 'Surface Albedo_A', 'Cloud Type_A']].values\n",
        "#  Scale future data using the trained scaler\n",
        "X_future_scaled = scaler_X.transform(X_future)\n",
        "print(X_future_scaled)\n"
      ],
      "metadata": {
        "id": "_hgX_tASA1fh",
        "outputId": "71afa610-9342-4c1b-ec02-7a9713924394",
        "colab": {
          "base_uri": "https://localhost:8080/"
        }
      },
      "execution_count": 61,
      "outputs": [
        {
          "output_type": "stream",
          "name": "stdout",
          "text": [
            "[[ 0.          0.57768142  1.78253151 ...  0.18181818  4.81357792\n",
            "   0.22222222]\n",
            " [ 0.04347826  0.61193627  0.9435764  ...  0.18181818 -0.70231808\n",
            "   0.11111111]\n",
            " [ 0.08695652  0.65823203  1.37769548 ...  0.18181818  0.65961953\n",
            "   0.        ]\n",
            " ...\n",
            " [ 0.91304348  0.6594482   1.66477893 ...  0.18181818  1.14506669\n",
            "   0.22222222]\n",
            " [ 0.95652174  0.61634149  0.56981801 ...  0.18181818  3.91369435\n",
            "   0.33333333]\n",
            " [ 1.          0.60980707  1.62594164 ...  0.18181818  0.26764292\n",
            "   0.22222222]]\n"
          ]
        }
      ]
    },
    {
      "cell_type": "code",
      "source": [
        "# Predict probability of nonzero irradiance\n",
        "is_daytime_future = classifier.predict(X_future_scaled)\n",
        "\n",
        "# Predict irradiance only for nonzero cases\n",
        "irradiance_future_scaled = regressor.predict(X_future_scaled)\n",
        "\n",
        "# Apply classification decision: Set nighttime values to 0\n",
        "y_future_scaled = np.where(is_daytime_future > 0.5, irradiance_future_scaled, 0)\n",
        "\n",
        "# Inverse scale predictions\n",
        "y_future = scaler_y.inverse_transform(y_future_scaled.reshape(-1, 1))\n",
        "\n",
        "# Set small irradiance values to 0\n",
        "y_future[y_future < 15] = 0  # Adjust threshold if needed\n"
      ],
      "metadata": {
        "id": "j9fFf3iAA19-",
        "outputId": "de7c7b3b-3d6e-4c83-842b-28b06450ba71",
        "colab": {
          "base_uri": "https://localhost:8080/"
        }
      },
      "execution_count": 63,
      "outputs": [
        {
          "output_type": "stream",
          "name": "stdout",
          "text": [
            "\u001b[1m6/6\u001b[0m \u001b[32m━━━━━━━━━━━━━━━━━━━━\u001b[0m\u001b[37m\u001b[0m \u001b[1m0s\u001b[0m 6ms/step \n",
            "\u001b[1m6/6\u001b[0m \u001b[32m━━━━━━━━━━━━━━━━━━━━\u001b[0m\u001b[37m\u001b[0m \u001b[1m0s\u001b[0m 8ms/step \n"
          ]
        }
      ]
    },
    {
      "cell_type": "code",
      "source": [
        "# Save predictions to DataFrame\n",
        "future_df[['DNI_A']] = y_future\n",
        "\n",
        "#  Save to CSV\n",
        "future_df.to_csv(\"Future_Solar_Predictions_March2025.csv\", index=False)\n",
        "\n",
        "#Display first 10 predictions\n",
        "print(future_df.head(10))"
      ],
      "metadata": {
        "id": "GbNNMPFzBAEQ",
        "outputId": "578b867d-b4b7-4047-9806-85e0e694695d",
        "colab": {
          "base_uri": "https://localhost:8080/"
        }
      },
      "execution_count": 64,
      "outputs": [
        {
          "output_type": "stream",
          "name": "stdout",
          "text": [
            "   day  month  hour  Temperature_A   Pressure_A  Surface Albedo_A  \\\n",
            "0    1      3     0      27.032414  1044.475945          0.380679   \n",
            "1    1      3     1      28.149122  1019.307292          0.104884   \n",
            "2    1      3     2      29.658364  1032.330864          0.172981   \n",
            "3    1      3     3      28.795129  1041.461667          0.268357   \n",
            "4    1      3     4      28.888718  1030.502887          0.458593   \n",
            "5    1      3     5      27.404879  1033.020199          0.452368   \n",
            "6    1      3     6      28.056800  1001.884452          0.499906   \n",
            "7    1      3     7      29.903821  1000.348827          0.319502   \n",
            "8    1      3     8      28.574460  1009.483824          0.446225   \n",
            "9    1      3     9      28.592449  1043.587005          0.355794   \n",
            "\n",
            "   Cloud Type_A  DNI_A  \n",
            "0             2    0.0  \n",
            "1             1    0.0  \n",
            "2             0    0.0  \n",
            "3             1    0.0  \n",
            "4             0    0.0  \n",
            "5             3    0.0  \n",
            "6             1    0.0  \n",
            "7             3    0.0  \n",
            "8             0    0.0  \n",
            "9             2    0.0  \n"
          ]
        }
      ]
    }
  ]
}