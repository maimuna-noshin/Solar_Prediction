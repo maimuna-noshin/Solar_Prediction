{
  "nbformat": 4,
  "nbformat_minor": 0,
  "metadata": {
    "colab": {
      "provenance": [],
      "include_colab_link": true
    },
    "kernelspec": {
      "name": "python3",
      "display_name": "Python 3"
    },
    "language_info": {
      "name": "python"
    }
  },
  "cells": [
    {
      "cell_type": "markdown",
      "metadata": {
        "id": "view-in-github",
        "colab_type": "text"
      },
      "source": [
        "<a href=\"https://colab.research.google.com/github/maimuna-noshin/Solar_Prediction/blob/main/solarprediction.ipynb\" target=\"_parent\"><img src=\"https://colab.research.google.com/assets/colab-badge.svg\" alt=\"Open In Colab\"/></a>"
      ]
    },
    {
      "cell_type": "code",
      "execution_count": 111,
      "metadata": {
        "id": "vQ2XqW7kluLE"
      },
      "outputs": [],
      "source": [
        "import pandas as pd\n",
        "import numpy as np\n",
        "import tensorflow as tf\n",
        "from tensorflow import keras\n",
        "from tensorflow.keras.utils import get_custom_objects\n",
        "from sklearn.model_selection import train_test_split\n",
        "from sklearn.preprocessing import MinMaxScaler\n",
        "import pickle\n",
        "from sklearn.model_selection import RandomizedSearchCV\n",
        "from scipy.stats import randint as sp_randint\n",
        "from sklearn.model_selection import RandomizedSearchCV\n",
        "from scipy.stats import randint as sp_randint\n",
        "from tensorflow.keras.layers import Dense, Dropout, LSTM, Conv1D, BatchNormalization, Flatten\n",
        "from sklearn.preprocessing import StandardScaler\n",
        "from scipy.fftpack import fft\n",
        "from sklearn.model_selection import train_test_split\n",
        "from tensorflow.keras.callbacks import ReduceLROnPlateau, EarlyStopping"
      ]
    },
    {
      "cell_type": "code",
      "source": [
        "df=pd.read_csv(\"/content/updated_dataset.csv\")"
      ],
      "metadata": {
        "id": "b2EaJDk9l9JD"
      },
      "execution_count": 112,
      "outputs": []
    },
    {
      "cell_type": "code",
      "source": [
        "# Convert to datetime\n",
        "df['date'] = pd.to_datetime(df[['Year', 'Month', 'Day', 'Hour']])\n",
        "\n",
        "\n"
      ],
      "metadata": {
        "id": "8eWPZASsl9Mm"
      },
      "execution_count": 113,
      "outputs": []
    },
    {
      "cell_type": "code",
      "source": [
        "# Selecting features (X) and target variables (Y)\n",
        "features = ['Hour', 'Temperature_A','Pressure_A', 'Day','Month', 'Surface Albedo_A', 'Cloud Type_A']\n",
        "targets = ['DNI_A']  # Target variables for all three locations"
      ],
      "metadata": {
        "id": "jrLXHLggl9TK"
      },
      "execution_count": 114,
      "outputs": []
    },
    {
      "cell_type": "code",
      "source": [
        "\n",
        "X = df[features].values\n",
        "y = df[targets].values"
      ],
      "metadata": {
        "id": "qSIvZNBO2RrP"
      },
      "execution_count": 115,
      "outputs": []
    },
    {
      "cell_type": "code",
      "source": [
        "# Keep timestamps before scaling\n",
        "timestamps = df[['Month', 'Day', 'Hour']]"
      ],
      "metadata": {
        "id": "QK_c9pUC2R1G"
      },
      "execution_count": 116,
      "outputs": []
    },
    {
      "cell_type": "code",
      "source": [
        "scaler_X = MinMaxScaler()\n",
        "scaler_y = MinMaxScaler(feature_range=(0, 1000))\n",
        "X_scaled = scaler_X.fit_transform(X)\n",
        "y_scaled = scaler_y.fit_transform(y)\n",
        "# Save the feature scaler\n",
        "with open(\"scaler_X.pkl\", \"wb\") as f:\n",
        "    pickle.dump(scaler_X, f)\n",
        "\n",
        "# Save the target scaler\n",
        "with open(\"scaler_y.pkl\", \"wb\") as f:\n",
        "    pickle.dump(scaler_y, f)"
      ],
      "metadata": {
        "id": "hQ2Kq3h82R42"
      },
      "execution_count": 117,
      "outputs": []
    },
    {
      "cell_type": "code",
      "source": [
        "hours_tensor = tf.convert_to_tensor(df['Hour'].values, dtype=tf.float32)\n"
      ],
      "metadata": {
        "id": "PQecOZDwu71w"
      },
      "execution_count": 118,
      "outputs": []
    },
    {
      "cell_type": "code",
      "source": [
        "# Split data into training and testing sets\n",
        "X_train, X_test, y_train, y_test, timestamps_train, timestamps_test = train_test_split(X_scaled, y_scaled,timestamps, test_size=0.2, random_state=42)"
      ],
      "metadata": {
        "id": "EZ3DTavB2R8l"
      },
      "execution_count": 119,
      "outputs": []
    },
    {
      "cell_type": "code",
      "source": [
        "def custom_loss_fixed(y_true, y_pred):\n",
        "    batch_size = tf.shape(y_true)[0]\n",
        "    batch_hours = tf.gather(hours_tensor, tf.range(batch_size))  # Use hours_tensor instead of hours\n",
        "\n",
        "    nighttime_mask = tf.logical_or(tf.less_equal(batch_hours, 8), tf.greater_equal(batch_hours, 18))\n",
        "    nighttime_mask = tf.cast(nighttime_mask, tf.float32)\n",
        "\n",
        "    mse_loss = tf.keras.losses.MSE(y_true, y_pred)\n",
        "    penalty_factor = 10.0\n",
        "    weighted_loss = mse_loss * (1 + (penalty_factor - 1) * nighttime_mask)\n",
        "\n",
        "    return tf.reduce_mean(weighted_loss)\n",
        "\n",
        "\n"
      ],
      "metadata": {
        "id": "TXzT_iAmLeVi"
      },
      "execution_count": 120,
      "outputs": []
    },
    {
      "cell_type": "code",
      "source": [
        "model = keras.Sequential([\n",
        "    keras.layers.Dense(128, activation='relu', input_shape=(X_train.shape[1],)),\n",
        "    keras.layers.Dropout(0.2),\n",
        "    keras.layers.Dense(256, activation='relu'),\n",
        "    keras.layers.Dropout(0.2),\n",
        "    keras.layers.Dense(128, activation='relu'),\n",
        "    keras.layers.Dense(len(targets), activation='linear')\n",
        "])"
      ],
      "metadata": {
        "colab": {
          "base_uri": "https://localhost:8080/"
        },
        "id": "ztt3RdnS2g_8",
        "outputId": "2cf9e3a6-6443-4df7-caae-bb9143da1e23"
      },
      "execution_count": 121,
      "outputs": [
        {
          "output_type": "stream",
          "name": "stderr",
          "text": [
            "/usr/local/lib/python3.10/dist-packages/keras/src/layers/core/dense.py:87: UserWarning: Do not pass an `input_shape`/`input_dim` argument to a layer. When using Sequential models, prefer using an `Input(shape)` object as the first layer in the model instead.\n",
            "  super().__init__(activity_regularizer=activity_regularizer, **kwargs)\n"
          ]
        }
      ]
    },
    {
      "cell_type": "code",
      "source": [
        "model.compile(optimizer='adam', loss=custom_loss_fixed, metrics=['mae'])\n",
        "\n",
        "early_stopping = tf.keras.callbacks.EarlyStopping(monitor='val_loss', patience=10, restore_best_weights=True)"
      ],
      "metadata": {
        "id": "SmmxLfre2R_7"
      },
      "execution_count": 122,
      "outputs": []
    },
    {
      "cell_type": "code",
      "source": [
        "# Train the model\n",
        "history = model.fit(X_train, y_train, epochs=10, batch_size=8, validation_data=(X_test, y_test))"
      ],
      "metadata": {
        "colab": {
          "base_uri": "https://localhost:8080/"
        },
        "id": "XbCo6VxP2orT",
        "outputId": "fe6f3705-e7d5-4dc6-adab-f3e49f4212e1"
      },
      "execution_count": 123,
      "outputs": [
        {
          "output_type": "stream",
          "name": "stdout",
          "text": [
            "Epoch 1/10\n",
            "\u001b[1m876/876\u001b[0m \u001b[32m━━━━━━━━━━━━━━━━━━━━\u001b[0m\u001b[37m\u001b[0m \u001b[1m3s\u001b[0m 2ms/step - loss: 704192.3125 - mae: 199.1628 - val_loss: 325530.5938 - val_mae: 133.8725\n",
            "Epoch 2/10\n",
            "\u001b[1m876/876\u001b[0m \u001b[32m━━━━━━━━━━━━━━━━━━━━\u001b[0m\u001b[37m\u001b[0m \u001b[1m2s\u001b[0m 2ms/step - loss: 334734.8750 - mae: 125.7118 - val_loss: 279939.6562 - val_mae: 108.6224\n",
            "Epoch 3/10\n",
            "\u001b[1m876/876\u001b[0m \u001b[32m━━━━━━━━━━━━━━━━━━━━\u001b[0m\u001b[37m\u001b[0m \u001b[1m2s\u001b[0m 2ms/step - loss: 299002.0938 - mae: 108.8554 - val_loss: 248517.8281 - val_mae: 96.4577\n",
            "Epoch 4/10\n",
            "\u001b[1m876/876\u001b[0m \u001b[32m━━━━━━━━━━━━━━━━━━━━\u001b[0m\u001b[37m\u001b[0m \u001b[1m2s\u001b[0m 2ms/step - loss: 259783.1406 - mae: 100.1180 - val_loss: 245309.7969 - val_mae: 93.8147\n",
            "Epoch 5/10\n",
            "\u001b[1m876/876\u001b[0m \u001b[32m━━━━━━━━━━━━━━━━━━━━\u001b[0m\u001b[37m\u001b[0m \u001b[1m2s\u001b[0m 2ms/step - loss: 266457.5000 - mae: 99.4974 - val_loss: 248050.5938 - val_mae: 95.7746\n",
            "Epoch 6/10\n",
            "\u001b[1m876/876\u001b[0m \u001b[32m━━━━━━━━━━━━━━━━━━━━\u001b[0m\u001b[37m\u001b[0m \u001b[1m2s\u001b[0m 2ms/step - loss: 251981.0781 - mae: 95.4579 - val_loss: 245922.8125 - val_mae: 92.4991\n",
            "Epoch 7/10\n",
            "\u001b[1m876/876\u001b[0m \u001b[32m━━━━━━━━━━━━━━━━━━━━\u001b[0m\u001b[37m\u001b[0m \u001b[1m3s\u001b[0m 2ms/step - loss: 254925.1562 - mae: 95.7848 - val_loss: 233114.1250 - val_mae: 87.5705\n",
            "Epoch 8/10\n",
            "\u001b[1m876/876\u001b[0m \u001b[32m━━━━━━━━━━━━━━━━━━━━\u001b[0m\u001b[37m\u001b[0m \u001b[1m3s\u001b[0m 2ms/step - loss: 245676.5625 - mae: 93.0761 - val_loss: 241274.3594 - val_mae: 92.2723\n",
            "Epoch 9/10\n",
            "\u001b[1m876/876\u001b[0m \u001b[32m━━━━━━━━━━━━━━━━━━━━\u001b[0m\u001b[37m\u001b[0m \u001b[1m2s\u001b[0m 2ms/step - loss: 243746.0000 - mae: 93.1174 - val_loss: 231602.6406 - val_mae: 86.1913\n",
            "Epoch 10/10\n",
            "\u001b[1m876/876\u001b[0m \u001b[32m━━━━━━━━━━━━━━━━━━━━\u001b[0m\u001b[37m\u001b[0m \u001b[1m2s\u001b[0m 2ms/step - loss: 240482.3750 - mae: 91.8828 - val_loss: 227945.9688 - val_mae: 86.8639\n"
          ]
        }
      ]
    },
    {
      "cell_type": "code",
      "source": [
        "# Predict future solar irradiance for all three locations\n",
        "y_pred_scaled = model.predict(X_test)\n",
        "y_pred = scaler_y.inverse_transform(y_pred_scaled)\n"
      ],
      "metadata": {
        "colab": {
          "base_uri": "https://localhost:8080/"
        },
        "id": "LOjekJd72ovo",
        "outputId": "620d13c0-eff5-4507-fcdf-9de114b45ca9"
      },
      "execution_count": 124,
      "outputs": [
        {
          "output_type": "stream",
          "name": "stdout",
          "text": [
            "\u001b[1m55/55\u001b[0m \u001b[32m━━━━━━━━━━━━━━━━━━━━\u001b[0m\u001b[37m\u001b[0m \u001b[1m0s\u001b[0m 2ms/step\n"
          ]
        }
      ]
    },
    {
      "cell_type": "code",
      "source": [
        "# Convert predictions into a DataFrame\n",
        "predictions_df = timestamps_test.copy()\n",
        "\n",
        "# Assign each column separately\n",
        "predictions_df[['DNI_A']] = y_pred"
      ],
      "metadata": {
        "id": "8IdbseJv3CKz"
      },
      "execution_count": 125,
      "outputs": []
    },
    {
      "cell_type": "code",
      "source": [
        "# Print first 100 predictions with date and hour\n",
        "print(predictions_df.head(100))\n",
        "predictions_df.to_csv(\"solar_irradiance_predictions.csv\", index=False)  # Saves to a CSV]"
      ],
      "metadata": {
        "colab": {
          "base_uri": "https://localhost:8080/"
        },
        "id": "98M8JsdV3COJ",
        "outputId": "d45286b8-c634-44b9-c166-998b48ea3e71"
      },
      "execution_count": 126,
      "outputs": [
        {
          "output_type": "stream",
          "name": "stdout",
          "text": [
            "      Month  Day  Hour       DNI_A\n",
            "6056      9   10     8  259.199219\n",
            "5556      8   20    12  326.159363\n",
            "5990      9    7    14  289.042267\n",
            "7674     11   16    18   53.463699\n",
            "3319      5   19     7  159.440567\n",
            "...     ...  ...   ...         ...\n",
            "6006      9    8     6   20.301859\n",
            "8063     12    2    23   -5.241169\n",
            "14        1    1    14  522.838074\n",
            "5306      8   10     2    0.377983\n",
            "8524     12   22     4   -0.516996\n",
            "\n",
            "[100 rows x 4 columns]\n"
          ]
        }
      ]
    },
    {
      "cell_type": "code",
      "source": [
        "model.save(\"solar_irradiance_predictions.keras\")\n",
        "\n",
        "\n",
        "model = keras.models.load_model(\n",
        "    \"solar_irradiance_predictions.keras\",\n",
        "    custom_objects={\"custom_loss_fixed\": custom_loss_fixed},\n",
        "    safe_mode=False  # Allows deserialization of custom objects\n",
        ")\n",
        "\n",
        "\n",
        "\n"
      ],
      "metadata": {
        "id": "puUcFKZDAnOu"
      },
      "execution_count": 127,
      "outputs": []
    },
    {
      "cell_type": "code",
      "source": [
        "#  Load the scalers used during training\n",
        "\n",
        "with open(\"scaler_X.pkl\", \"rb\") as f:\n",
        "    scaler_X = pickle.load(f)\n",
        "with open(\"scaler_y.pkl\", \"rb\") as f:\n",
        "    scaler_y = pickle.load(f)"
      ],
      "metadata": {
        "id": "gZGmN3-zAnR0"
      },
      "execution_count": 128,
      "outputs": []
    },
    {
      "cell_type": "code",
      "source": [
        "# Generate timestamps for the first week of March 2025 (hourly)\n",
        "date_range = pd.date_range(start=\"2025-03-01\", end=\"2025-03-07 23:00:00\", freq=\"H\")\n",
        "future_df = pd.DataFrame({\"datetime\": date_range})"
      ],
      "metadata": {
        "id": "7-2OXJ9dArho",
        "outputId": "30b6c935-928c-44cc-fdae-1bbb618275d4",
        "colab": {
          "base_uri": "https://localhost:8080/"
        }
      },
      "execution_count": 129,
      "outputs": [
        {
          "output_type": "stream",
          "name": "stderr",
          "text": [
            "<ipython-input-129-0e223ba96d09>:2: FutureWarning: 'H' is deprecated and will be removed in a future version, please use 'h' instead.\n",
            "  date_range = pd.date_range(start=\"2025-03-01\", end=\"2025-03-07 23:00:00\", freq=\"H\")\n"
          ]
        }
      ]
    },
    {
      "cell_type": "code",
      "source": [
        "#  Feature Engineering\n",
        "future_df[\"day\"] = future_df[\"datetime\"].dt.day\n",
        "future_df[\"month\"] = future_df[\"datetime\"].dt.month\n",
        "future_df[\"hour\"] = future_df[\"datetime\"].dt.hour\n",
        "future_df.drop(columns=[\"datetime\"], inplace=True)"
      ],
      "metadata": {
        "id": "G55MNz34AnVq"
      },
      "execution_count": 130,
      "outputs": []
    },
    {
      "cell_type": "code",
      "source": [
        "# Generate random values\n",
        "future_df[\"Temperature_A\"] = np.random.uniform(27, 30, size=168)  # Temperature between 15°C to 30°C\n",
        "future_df[\"Pressure_A\"] = np.random.uniform(1000, 1050, size=168)  # Pressure between 950-1050 hPa\n",
        "future_df[\"Surface Albedo_A\"] = np.random.uniform(0.1, 0.5, size=168)  # Albedo between 0.1 - 0.5\n",
        "future_df[\"Cloud Type_A\"] = np.random.randint(0, 4, size=168)  # Cloud types (0-3)\n",
        "\n",
        "# Merge the first week’s random values with `future_df`\n",
        "#future_df = future_df.merge(future_df, on=[\"Month\", \"Day\"], how=\"left\")\n",
        "\n",
        "# Time-based encoding (sin/cos transformation)\n",
        "#future_df[\"hour_sin\"] = np.sin(2 * np.pi * future_df[\"hour\"] / 24)\n",
        "#future_df[\"hour_cos\"] = np.cos(2 * np.pi * future_df[\"hour\"] / 24)\n",
        "\n",
        "# Select the same features used in training\n",
        "#X_future = future_df[['hour_sin', 'hour_cos', 'Temperature_A', 'Pressure_A', 'day', 'Month', 'Surface Albedo_A', 'Cloud Type_A']].values"
      ],
      "metadata": {
        "id": "e7HqObYi70BB"
      },
      "execution_count": 131,
      "outputs": []
    },
    {
      "cell_type": "code",
      "source": [
        "#  Select the same features used in training\n",
        "X_future = future_df[['hour', 'Temperature_A','Pressure_A', 'day','month', 'Surface Albedo_A', 'Cloud Type_A']].values\n",
        "#  Scale future data using the trained scaler\n",
        "X_future_scaled = scaler_X.transform(X_future)\n",
        "print(X_future_scaled)\n"
      ],
      "metadata": {
        "id": "_hgX_tASA1fh",
        "outputId": "b21c2bdc-6e26-4e7c-9ff4-06979b51fba9",
        "colab": {
          "base_uri": "https://localhost:8080/"
        }
      },
      "execution_count": 132,
      "outputs": [
        {
          "output_type": "stream",
          "name": "stdout",
          "text": [
            "[[0.         0.66068578 1.49168441 ... 0.18181818 7.14951514 0.22222222]\n",
            " [0.04347826 0.61124863 0.91899833 ... 0.18181818 4.75523477 0.11111111]\n",
            " [0.08695652 0.64239392 0.56288627 ... 0.18181818 2.66447391 0.33333333]\n",
            " ...\n",
            " [0.91304348 0.64660538 0.86204352 ... 0.18181818 6.17242166 0.11111111]\n",
            " [0.95652174 0.58637089 0.5889547  ... 0.18181818 0.47375851 0.11111111]\n",
            " [1.         0.64982638 0.72627768 ... 0.18181818 3.12254577 0.33333333]]\n"
          ]
        }
      ]
    },
    {
      "cell_type": "code",
      "source": [
        "#  Make predictions\n",
        "y_future_scaled = model.predict(X_future_scaled)\n",
        "\n",
        "#  Inverse scale predictions\n",
        "y_future = scaler_y.inverse_transform(y_future_scaled)\n",
        "#  Set negative irradiance values to 0\n",
        "y_future[y_future < 15] = 0"
      ],
      "metadata": {
        "id": "j9fFf3iAA19-",
        "outputId": "b069dc21-9a02-4ea8-eca0-1f033a465a83",
        "colab": {
          "base_uri": "https://localhost:8080/"
        }
      },
      "execution_count": 133,
      "outputs": [
        {
          "output_type": "stream",
          "name": "stdout",
          "text": [
            "\u001b[1m6/6\u001b[0m \u001b[32m━━━━━━━━━━━━━━━━━━━━\u001b[0m\u001b[37m\u001b[0m \u001b[1m0s\u001b[0m 7ms/step \n"
          ]
        }
      ]
    },
    {
      "cell_type": "code",
      "source": [
        "# Save predictions to DataFrame\n",
        "future_df[['DNI_A']] = y_future\n",
        "\n",
        "#  Save to CSV\n",
        "future_df.to_csv(\"Future_Solar_Predictions_March2025.csv\", index=False)\n",
        "\n",
        "#Display first 10 predictions\n",
        "print(future_df.head(10))"
      ],
      "metadata": {
        "id": "GbNNMPFzBAEQ",
        "outputId": "42e0b832-717f-4ba8-80da-426547588b16",
        "colab": {
          "base_uri": "https://localhost:8080/"
        }
      },
      "execution_count": 134,
      "outputs": [
        {
          "output_type": "stream",
          "name": "stdout",
          "text": [
            "   day  month  hour  Temperature_A   Pressure_A  Surface Albedo_A  \\\n",
            "0    1      3     0      29.738356  1035.750532          0.497476   \n",
            "1    1      3     1      28.126705  1018.569950          0.377762   \n",
            "2    1      3     2      29.142042  1007.886588          0.273224   \n",
            "3    1      3     3      27.607819  1007.773785          0.118153   \n",
            "4    1      3     4      29.355007  1001.012570          0.307664   \n",
            "5    1      3     5      28.985646  1024.710290          0.189662   \n",
            "6    1      3     6      28.505506  1010.754263          0.289048   \n",
            "7    1      3     7      29.981542  1005.345113          0.311924   \n",
            "8    1      3     8      29.507550  1017.094996          0.271512   \n",
            "9    1      3     9      28.702963  1008.341810          0.206139   \n",
            "\n",
            "   Cloud Type_A       DNI_A  \n",
            "0             2    0.000000  \n",
            "1             1    0.000000  \n",
            "2             3    0.000000  \n",
            "3             1    0.000000  \n",
            "4             3    0.000000  \n",
            "5             1  141.291733  \n",
            "6             1   26.454313  \n",
            "7             2   67.308250  \n",
            "8             2  270.397095  \n",
            "9             2  500.539703  \n"
          ]
        }
      ]
    }
  ]
}