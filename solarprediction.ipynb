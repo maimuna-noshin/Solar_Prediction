{
  "nbformat": 4,
  "nbformat_minor": 0,
  "metadata": {
    "colab": {
      "provenance": [],
      "include_colab_link": true
    },
    "kernelspec": {
      "name": "python3",
      "display_name": "Python 3"
    },
    "language_info": {
      "name": "python"
    }
  },
  "cells": [
    {
      "cell_type": "markdown",
      "metadata": {
        "id": "view-in-github",
        "colab_type": "text"
      },
      "source": [
        "<a href=\"https://colab.research.google.com/github/maimuna-noshin/Solar_Prediction/blob/main/solarprediction.ipynb\" target=\"_parent\"><img src=\"https://colab.research.google.com/assets/colab-badge.svg\" alt=\"Open In Colab\"/></a>"
      ]
    },
    {
      "cell_type": "code",
      "execution_count": 301,
      "metadata": {
        "id": "vQ2XqW7kluLE"
      },
      "outputs": [],
      "source": [
        "import pandas as pd\n",
        "import numpy as np\n",
        "import tensorflow as tf\n",
        "from tensorflow import keras\n",
        "from sklearn.model_selection import train_test_split\n",
        "from sklearn.preprocessing import MinMaxScaler\n",
        "import pickle\n",
        "from sklearn.model_selection import RandomizedSearchCV\n",
        "from scipy.stats import randint as sp_randint\n",
        "from sklearn.model_selection import RandomizedSearchCV\n",
        "from scipy.stats import randint as sp_randint\n",
        "from tensorflow.keras.layers import Dense, Dropout, LSTM, Conv1D, BatchNormalization, Flatten\n",
        "from sklearn.preprocessing import StandardScaler\n",
        "from scipy.fftpack import fft\n",
        "from sklearn.model_selection import train_test_split\n",
        "from tensorflow.keras.callbacks import ReduceLROnPlateau, EarlyStopping"
      ]
    },
    {
      "cell_type": "code",
      "source": [
        "df=pd.read_csv(\"/content/updated_dataset.csv\")"
      ],
      "metadata": {
        "id": "b2EaJDk9l9JD"
      },
      "execution_count": 302,
      "outputs": []
    },
    {
      "cell_type": "code",
      "source": [
        "# Convert to datetime\n",
        "df['date'] = pd.to_datetime(df[['Year', 'Month', 'Day', 'Hour']])\n",
        "\n",
        "\n"
      ],
      "metadata": {
        "id": "8eWPZASsl9Mm"
      },
      "execution_count": 303,
      "outputs": []
    },
    {
      "cell_type": "code",
      "source": [
        "# Selecting features (X) and target variables (Y)\n",
        "features = ['Hour', 'Temperature_A','Pressure_A', 'Day','Month', 'Surface Albedo_A', 'Cloud Type_A']\n",
        "targets = ['DNI_A']  # Target variables for all three locations"
      ],
      "metadata": {
        "id": "jrLXHLggl9TK"
      },
      "execution_count": 304,
      "outputs": []
    },
    {
      "cell_type": "code",
      "source": [
        "\n",
        "X = df[features].values\n",
        "y = df[targets].values"
      ],
      "metadata": {
        "id": "qSIvZNBO2RrP"
      },
      "execution_count": 305,
      "outputs": []
    },
    {
      "cell_type": "code",
      "source": [
        "# Keep timestamps before scaling\n",
        "timestamps = df[['Month', 'Day', 'Hour']]"
      ],
      "metadata": {
        "id": "QK_c9pUC2R1G"
      },
      "execution_count": 306,
      "outputs": []
    },
    {
      "cell_type": "code",
      "source": [
        "scaler_X = MinMaxScaler()\n",
        "scaler_y = MinMaxScaler(feature_range=(0, 1000))\n",
        "X_scaled = scaler_X.fit_transform(X)\n",
        "y_scaled = scaler_y.fit_transform(y)\n",
        "# Save the feature scaler\n",
        "with open(\"scaler_X.pkl\", \"wb\") as f:\n",
        "    pickle.dump(scaler_X, f)\n",
        "\n",
        "# Save the target scaler\n",
        "with open(\"scaler_y.pkl\", \"wb\") as f:\n",
        "    pickle.dump(scaler_y, f)"
      ],
      "metadata": {
        "id": "hQ2Kq3h82R42"
      },
      "execution_count": 307,
      "outputs": []
    },
    {
      "cell_type": "code",
      "source": [
        "# Split data into training and testing sets\n",
        "X_train, X_test, y_train, y_test, timestamps_train, timestamps_test = train_test_split(X_scaled, y_scaled,timestamps, test_size=0.2, random_state=42)\n",
        "print(X_train.max())"
      ],
      "metadata": {
        "id": "EZ3DTavB2R8l",
        "colab": {
          "base_uri": "https://localhost:8080/"
        },
        "outputId": "68b4a344-080a-4042-fe71-d5b6784e2200"
      },
      "execution_count": 308,
      "outputs": [
        {
          "output_type": "stream",
          "name": "stdout",
          "text": [
            "1.0\n"
          ]
        }
      ]
    },
    {
      "cell_type": "code",
      "source": [
        "model = keras.Sequential([\n",
        "    keras.layers.Dense(128, activation='relu', input_shape=(X_train.shape[1],)),\n",
        "    keras.layers.Dropout(0.2),\n",
        "    keras.layers.Dense(256, activation='relu'),\n",
        "    keras.layers.Dropout(0.2),\n",
        "    keras.layers.Dense(128, activation='relu'),\n",
        "    keras.layers.Dense(len(targets), activation='linear')\n",
        "])"
      ],
      "metadata": {
        "colab": {
          "base_uri": "https://localhost:8080/"
        },
        "id": "ztt3RdnS2g_8",
        "outputId": "6b00f470-e0dd-4ada-fbb1-427ba7ddcc65"
      },
      "execution_count": 309,
      "outputs": [
        {
          "output_type": "stream",
          "name": "stderr",
          "text": [
            "/usr/local/lib/python3.11/dist-packages/keras/src/layers/core/dense.py:87: UserWarning: Do not pass an `input_shape`/`input_dim` argument to a layer. When using Sequential models, prefer using an `Input(shape)` object as the first layer in the model instead.\n",
            "  super().__init__(activity_regularizer=activity_regularizer, **kwargs)\n"
          ]
        }
      ]
    },
    {
      "cell_type": "code",
      "source": [
        "# Compile the model\n",
        "optimizer = keras.optimizers.Adam(learning_rate=0.001)\n",
        "model.compile(optimizer=optimizer, loss='mse', metrics=['mae'])\n",
        "early_stopping = keras.callbacks.EarlyStopping(monitor='val_loss', patience=10, restore_best_weights=True)"
      ],
      "metadata": {
        "id": "SmmxLfre2R_7"
      },
      "execution_count": 310,
      "outputs": []
    },
    {
      "cell_type": "code",
      "source": [
        "# Train the model\n",
        "history = model.fit(X_train, y_train, epochs=10, batch_size=8, validation_data=(X_test, y_test))"
      ],
      "metadata": {
        "colab": {
          "base_uri": "https://localhost:8080/"
        },
        "id": "XbCo6VxP2orT",
        "outputId": "cbb6b07d-fb7b-4a6a-f339-88446c094cba"
      },
      "execution_count": 311,
      "outputs": [
        {
          "output_type": "stream",
          "name": "stdout",
          "text": [
            "Epoch 1/10\n",
            "\u001b[1m876/876\u001b[0m \u001b[32m━━━━━━━━━━━━━━━━━━━━\u001b[0m\u001b[37m\u001b[0m \u001b[1m3s\u001b[0m 2ms/step - loss: 71103.1562 - mae: 197.9624 - val_loss: 34374.7305 - val_mae: 134.2465\n",
            "Epoch 2/10\n",
            "\u001b[1m876/876\u001b[0m \u001b[32m━━━━━━━━━━━━━━━━━━━━\u001b[0m\u001b[37m\u001b[0m \u001b[1m2s\u001b[0m 2ms/step - loss: 37446.2734 - mae: 128.6342 - val_loss: 29632.6172 - val_mae: 104.8848\n",
            "Epoch 3/10\n",
            "\u001b[1m876/876\u001b[0m \u001b[32m━━━━━━━━━━━━━━━━━━━━\u001b[0m\u001b[37m\u001b[0m \u001b[1m2s\u001b[0m 2ms/step - loss: 31688.2754 - mae: 109.7383 - val_loss: 28610.0391 - val_mae: 101.8249\n",
            "Epoch 4/10\n",
            "\u001b[1m876/876\u001b[0m \u001b[32m━━━━━━━━━━━━━━━━━━━━\u001b[0m\u001b[37m\u001b[0m \u001b[1m3s\u001b[0m 2ms/step - loss: 30825.0684 - mae: 106.0098 - val_loss: 28306.6348 - val_mae: 95.9818\n",
            "Epoch 5/10\n",
            "\u001b[1m876/876\u001b[0m \u001b[32m━━━━━━━━━━━━━━━━━━━━\u001b[0m\u001b[37m\u001b[0m \u001b[1m3s\u001b[0m 3ms/step - loss: 29799.0469 - mae: 103.0211 - val_loss: 26972.4492 - val_mae: 96.1106\n",
            "Epoch 6/10\n",
            "\u001b[1m876/876\u001b[0m \u001b[32m━━━━━━━━━━━━━━━━━━━━\u001b[0m\u001b[37m\u001b[0m \u001b[1m2s\u001b[0m 2ms/step - loss: 28348.5820 - mae: 99.0709 - val_loss: 26580.6172 - val_mae: 93.1278\n",
            "Epoch 7/10\n",
            "\u001b[1m876/876\u001b[0m \u001b[32m━━━━━━━━━━━━━━━━━━━━\u001b[0m\u001b[37m\u001b[0m \u001b[1m3s\u001b[0m 2ms/step - loss: 27935.4199 - mae: 98.2315 - val_loss: 26908.4492 - val_mae: 93.0658\n",
            "Epoch 8/10\n",
            "\u001b[1m876/876\u001b[0m \u001b[32m━━━━━━━━━━━━━━━━━━━━\u001b[0m\u001b[37m\u001b[0m \u001b[1m2s\u001b[0m 2ms/step - loss: 26288.4766 - mae: 94.1602 - val_loss: 26951.4004 - val_mae: 92.4184\n",
            "Epoch 9/10\n",
            "\u001b[1m876/876\u001b[0m \u001b[32m━━━━━━━━━━━━━━━━━━━━\u001b[0m\u001b[37m\u001b[0m \u001b[1m3s\u001b[0m 2ms/step - loss: 26186.8047 - mae: 94.2898 - val_loss: 27309.8555 - val_mae: 96.1573\n",
            "Epoch 10/10\n",
            "\u001b[1m876/876\u001b[0m \u001b[32m━━━━━━━━━━━━━━━━━━━━\u001b[0m\u001b[37m\u001b[0m \u001b[1m2s\u001b[0m 3ms/step - loss: 27847.0312 - mae: 98.9201 - val_loss: 29102.9004 - val_mae: 96.8590\n"
          ]
        }
      ]
    },
    {
      "cell_type": "code",
      "source": [
        "# Predict future solar irradiance for all three locations\n",
        "y_pred_scaled = model.predict(X_test)\n",
        "y_pred = scaler_y.inverse_transform(y_pred_scaled)\n",
        "# Set negative irradiance values to 0\n",
        "y_pred[y_pred < 10] = 0\n",
        "# Apply nighttime condition to predicted values\n",
        "nighttime_indices = (X_test[:, hour_column_index] < 6) | (X_test[:, hour_column_index] >= 18)\n",
        "y_pred[nighttime_indices, :] = 0"
      ],
      "metadata": {
        "colab": {
          "base_uri": "https://localhost:8080/"
        },
        "id": "LOjekJd72ovo",
        "outputId": "97cf0222-2354-404d-9a46-eeb09d16e507"
      },
      "execution_count": 312,
      "outputs": [
        {
          "output_type": "stream",
          "name": "stdout",
          "text": [
            "\u001b[1m55/55\u001b[0m \u001b[32m━━━━━━━━━━━━━━━━━━━━\u001b[0m\u001b[37m\u001b[0m \u001b[1m1s\u001b[0m 8ms/step\n"
          ]
        }
      ]
    },
    {
      "cell_type": "code",
      "source": [
        "# Convert predictions into a DataFrame\n",
        "predictions_df = timestamps_test.copy()\n",
        "\n",
        "# Assign each column separately\n",
        "predictions_df[['DNI_A']] = y_pred"
      ],
      "metadata": {
        "id": "8IdbseJv3CKz"
      },
      "execution_count": 313,
      "outputs": []
    },
    {
      "cell_type": "code",
      "source": [
        "# Print first 100 predictions with date and hour\n",
        "print(predictions_df.head(100))\n",
        "predictions_df.to_csv(\"solar_irradiance_predictions.csv\", index=False)  # Saves to a CSV]"
      ],
      "metadata": {
        "colab": {
          "base_uri": "https://localhost:8080/"
        },
        "id": "98M8JsdV3COJ",
        "outputId": "91004ee4-64e7-445b-ae04-ac6625035c35"
      },
      "execution_count": 314,
      "outputs": [
        {
          "output_type": "stream",
          "name": "stdout",
          "text": [
            "      Month  Day  Hour  DNI_A\n",
            "6056      9   10     8    0.0\n",
            "5556      8   20    12    0.0\n",
            "5990      9    7    14    0.0\n",
            "7674     11   16    18    0.0\n",
            "3319      5   19     7    0.0\n",
            "...     ...  ...   ...    ...\n",
            "6006      9    8     6    0.0\n",
            "8063     12    2    23    0.0\n",
            "14        1    1    14    0.0\n",
            "5306      8   10     2    0.0\n",
            "8524     12   22     4    0.0\n",
            "\n",
            "[100 rows x 4 columns]\n"
          ]
        }
      ]
    },
    {
      "cell_type": "code",
      "source": [
        "# Save using the new format:\n",
        "model.save(\"solar_irradiance_predictions.keras\")  # Or model.save(\"my_model\") - the .keras is optional\n",
        "\n",
        "# Load using the new format:\n",
        "model = keras.models.load_model(\"solar_irradiance_predictions.keras\")  # Or model = keras.models.load_model(\"my_model\")"
      ],
      "metadata": {
        "id": "puUcFKZDAnOu"
      },
      "execution_count": 315,
      "outputs": []
    },
    {
      "cell_type": "code",
      "source": [
        "#  Load the scalers used during training\n",
        "\n",
        "with open(\"scaler_X.pkl\", \"rb\") as f:\n",
        "    scaler_X = pickle.load(f)\n",
        "with open(\"scaler_y.pkl\", \"rb\") as f:\n",
        "    scaler_y = pickle.load(f)"
      ],
      "metadata": {
        "id": "gZGmN3-zAnR0"
      },
      "execution_count": 316,
      "outputs": []
    },
    {
      "cell_type": "code",
      "source": [
        "# Generate timestamps for the first week of March 2025 (hourly)\n",
        "date_range = pd.date_range(start=\"2025-03-01\", end=\"2025-03-07 23:00:00\", freq=\"H\")\n",
        "future_df = pd.DataFrame({\"datetime\": date_range})"
      ],
      "metadata": {
        "id": "7-2OXJ9dArho",
        "outputId": "22e85957-7b69-4910-8574-d22d515d582a",
        "colab": {
          "base_uri": "https://localhost:8080/"
        }
      },
      "execution_count": 317,
      "outputs": [
        {
          "output_type": "stream",
          "name": "stderr",
          "text": [
            "<ipython-input-317-0e223ba96d09>:2: FutureWarning: 'H' is deprecated and will be removed in a future version, please use 'h' instead.\n",
            "  date_range = pd.date_range(start=\"2025-03-01\", end=\"2025-03-07 23:00:00\", freq=\"H\")\n"
          ]
        }
      ]
    },
    {
      "cell_type": "code",
      "source": [
        "#  Feature Engineering\n",
        "future_df[\"day\"] = future_df[\"datetime\"].dt.day\n",
        "future_df[\"month\"] = future_df[\"datetime\"].dt.month\n",
        "future_df[\"hour\"] = future_df[\"datetime\"].dt.hour\n",
        "future_df.drop(columns=[\"datetime\"], inplace=True)"
      ],
      "metadata": {
        "id": "G55MNz34AnVq"
      },
      "execution_count": 318,
      "outputs": []
    },
    {
      "cell_type": "code",
      "source": [
        "# Generate random values\n",
        "future_df[\"Temperature_A\"] = np.random.uniform(27, 30, size=168)  # Temperature between 15°C to 30°C\n",
        "future_df[\"Pressure_A\"] = np.random.uniform(1000, 1050, size=168)  # Pressure between 950-1050 hPa\n",
        "future_df[\"Surface Albedo_A\"] = np.random.uniform(0.1, 0.5, size=168)  # Albedo between 0.1 - 0.5\n",
        "future_df[\"Cloud Type_A\"] = np.random.randint(0, 4, size=168)  # Cloud types (0-3)\n",
        "\n",
        "# Merge the first week’s random values with `future_df`\n",
        "#future_df = future_df.merge(future_df, on=[\"Month\", \"Day\"], how=\"left\")\n",
        "\n",
        "# Time-based encoding (sin/cos transformation)\n",
        "#future_df[\"hour_sin\"] = np.sin(2 * np.pi * future_df[\"hour\"] / 24)\n",
        "#future_df[\"hour_cos\"] = np.cos(2 * np.pi * future_df[\"hour\"] / 24)\n",
        "\n",
        "# Select the same features used in training\n",
        "#X_future = future_df[['hour_sin', 'hour_cos', 'Temperature_A', 'Pressure_A', 'day', 'Month', 'Surface Albedo_A', 'Cloud Type_A']].values"
      ],
      "metadata": {
        "id": "e7HqObYi70BB"
      },
      "execution_count": 319,
      "outputs": []
    },
    {
      "cell_type": "code",
      "source": [
        "#  Select the same features used in training\n",
        "X_future = future_df[['hour', 'Temperature_A','Pressure_A', 'day','month', 'Surface Albedo_A', 'Cloud Type_A']].values\n",
        "#  Scale future data using the trained scaler\n",
        "X_future_scaled = scaler_X.transform(X_future)\n",
        "print(X_future_scaled)\n"
      ],
      "metadata": {
        "id": "_hgX_tASA1fh",
        "outputId": "e3d2f2ca-8f9c-4c40-cd02-6a61e7f2b433",
        "colab": {
          "base_uri": "https://localhost:8080/"
        }
      },
      "execution_count": 320,
      "outputs": [
        {
          "output_type": "stream",
          "name": "stdout",
          "text": [
            "[[ 0.          0.58855756  1.25325256 ...  0.18181818  4.62964838\n",
            "   0.11111111]\n",
            " [ 0.04347826  0.5779826   1.26275203 ...  0.18181818  3.99376809\n",
            "   0.        ]\n",
            " [ 0.08695652  0.6618392   1.67377971 ...  0.18181818  6.58085751\n",
            "   0.33333333]\n",
            " ...\n",
            " [ 0.91304348  0.58829762  1.39065896 ...  0.18181818 -0.70666455\n",
            "   0.22222222]\n",
            " [ 0.95652174  0.59570665  0.72598971 ...  0.18181818  6.00336803\n",
            "   0.33333333]\n",
            " [ 1.          0.65156297  1.08564861 ...  0.18181818  5.51420817\n",
            "   0.        ]]\n"
          ]
        }
      ]
    },
    {
      "cell_type": "code",
      "source": [
        "#  Make predictions\n",
        "y_future_scaled = model.predict(X_future_scaled)\n",
        "\n",
        "#  Inverse scale predictions\n",
        "y_future = scaler_y.inverse_transform(y_future_scaled)\n",
        "#  Set negative irradiance values to 0\n",
        "y_future[y_future < 15] = 0"
      ],
      "metadata": {
        "id": "j9fFf3iAA19-",
        "outputId": "3aa365fd-2883-413a-94d3-9ec3baaadb7c",
        "colab": {
          "base_uri": "https://localhost:8080/"
        }
      },
      "execution_count": 321,
      "outputs": [
        {
          "output_type": "stream",
          "name": "stdout",
          "text": [
            "\u001b[1m6/6\u001b[0m \u001b[32m━━━━━━━━━━━━━━━━━━━━\u001b[0m\u001b[37m\u001b[0m \u001b[1m0s\u001b[0m 9ms/step \n"
          ]
        }
      ]
    },
    {
      "cell_type": "code",
      "source": [
        "# Save predictions to DataFrame\n",
        "future_df[['DNI_A']] = y_future\n",
        "\n",
        "#  Save to CSV\n",
        "future_df.to_csv(\"Future_Solar_Predictions_March2025.csv\", index=False)\n",
        "\n",
        "#Display first 10 predictions\n",
        "print(future_df.head(10))"
      ],
      "metadata": {
        "id": "GbNNMPFzBAEQ",
        "outputId": "358f9efa-aaaa-43ad-b4e9-e982f0310bc1",
        "colab": {
          "base_uri": "https://localhost:8080/"
        }
      },
      "execution_count": 322,
      "outputs": [
        {
          "output_type": "stream",
          "name": "stdout",
          "text": [
            "   day  month  hour  Temperature_A   Pressure_A  Surface Albedo_A  \\\n",
            "0    1      3     0      27.386976  1028.597577          0.371482   \n",
            "1    1      3     1      27.042233  1028.882561          0.339688   \n",
            "2    1      3     2      29.775958  1041.213391          0.469043   \n",
            "3    1      3     3      27.802040  1029.803668          0.462517   \n",
            "4    1      3     4      29.048425  1041.595201          0.425336   \n",
            "5    1      3     5      28.521611  1045.583853          0.123049   \n",
            "6    1      3     6      27.317023  1032.052301          0.102553   \n",
            "7    1      3     7      29.015670  1049.295309          0.408144   \n",
            "8    1      3     8      27.611049  1035.001967          0.104695   \n",
            "9    1      3     9      27.646691  1016.001883          0.386137   \n",
            "\n",
            "   Cloud Type_A       DNI_A  \n",
            "0             1    0.000000  \n",
            "1             0    0.000000  \n",
            "2             3    0.000000  \n",
            "3             0    0.000000  \n",
            "4             2   17.350122  \n",
            "5             2   19.717056  \n",
            "6             0    0.000000  \n",
            "7             0   42.795780  \n",
            "8             3  117.393974  \n",
            "9             0   26.979330  \n"
          ]
        }
      ]
    }
  ]
}